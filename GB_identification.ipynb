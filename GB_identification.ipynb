{
 "cells": [
  {
   "cell_type": "code",
   "execution_count": 1,
   "metadata": {},
   "outputs": [],
   "source": [
    "import cv2\n",
    "import numpy as np\n",
    "from sklearn.cluster import KMeans\n",
    "from collections import Counter\n",
    "\n",
    "def calculate_average_color(image, center, radius):\n",
    "    mask = np.zeros(image.shape[:2], np.uint8)\n",
    "    cv2.circle(mask, center, radius, 255, thickness=-1)\n",
    "    mean_val = cv2.mean(image, mask=mask)\n",
    "    return (int(mean_val[0]), int(mean_val[1]), int(mean_val[2]))\n",
    "\n",
    "def find_dominant_color(colors):\n",
    "    # Using KMeans clustering to find clusters of colors\n",
    "    if len(colors) > 1: # Need at least 2 colors to cluster\n",
    "        kmeans = KMeans(n_clusters=min(5, len(colors)), random_state=0).fit(colors)\n",
    "        counter = Counter(kmeans.labels_)\n",
    "        most_common = counter.most_common(1)[0][0]\n",
    "        dominant_color = kmeans.cluster_centers_[most_common]\n",
    "    else:\n",
    "        dominant_color = colors[0] if colors else (0, 0, 0)\n",
    "    return dominant_color\n",
    "\n",
    "def is_color_similar(color1, color2, threshold=45):\n",
    "    # Calculate Euclidean distance between two colors\n",
    "    distance = np.sqrt(sum([(a - b) ** 2 for a, b in zip(color1, color2)]))\n",
    "    return distance < threshold\n",
    "\n",
    "def convert_image_to_solid_circles_and_remove_dominant(x):\n",
    "    image_path = f\"Dataset/Grain_Boundary_Images/{x}.png\"\n",
    "    image = cv2.imread(image_path)\n",
    "    gray_image = cv2.cvtColor(image, cv2.COLOR_BGR2GRAY)\n",
    "    circles = cv2.HoughCircles(gray_image, cv2.HOUGH_GRADIENT, dp=1.2, minDist=20,\n",
    "                               param1=50, param2=20, minRadius=8, maxRadius=12)\n",
    "    if circles is not None:\n",
    "        circles = np.uint16(np.around(circles))\n",
    "        colors = [calculate_average_color(image, (i[0], i[1]), i[2]) for i in circles[0, :]]\n",
    "        dominant_color = find_dominant_color(colors)\n",
    "\n",
    "        output_image = np.zeros_like(image)\n",
    "        for i, color in zip(circles[0, :], colors):\n",
    "            if not is_color_similar(color, dominant_color):\n",
    "                cv2.circle(output_image, (i[0], i[1]), i[2], color, -1)\n",
    "\n",
    "        cv2.imwrite(f\"Dataset/Grain_Boundary_Segmented/{x}.png\", output_image)\n",
    "        # cv2.imshow('Output Image', output_image)\n",
    "        # cv2.waitKey(0)\n",
    "        # cv2.destroyAllWindows()\n",
    "    else:\n",
    "        print(\"No circles detected.\")\n",
    "\n",
    "# Replace 'path_to_your_image.jpg' with the path to your image file\n",
    "# convert_image_to_solid_circles_and_remove_dominant(x=36)\n",
    "\n",
    "#the code till now processes the images and saves them in the folder Grain_Boundary_Segmented for further analysis\n",
    "\n",
    "#working fine so far\n"
   ]
  },
  {
   "cell_type": "code",
   "execution_count": 18,
   "metadata": {},
   "outputs": [
    {
     "name": "stdout",
     "output_type": "stream",
     "text": [
      "['61', '148', '16', '36', '7', '6', '40', '3', '1', '52']\n"
     ]
    }
   ],
   "source": [
    "#get the list of images to process\n",
    "#go to the folder path and see the images presetn there, and check which ends by .png and add their name to a list\n",
    "import os\n",
    "path = \"Dataset/Grain_Boundary_Images\"\n",
    "images_list = os.listdir(path)\n",
    "images_list = [i.split('.')[0] for i in images_list if i.endswith(('.png', '.jpg', '.jpeg'))]\n",
    "\n",
    "# Print the list of image names without their extensions\n",
    "# print(images_list)"
   ]
  },
  {
   "cell_type": "code",
   "execution_count": 3,
   "metadata": {},
   "outputs": [],
   "source": [
    "# first creat segmented images of all the normal images, seprating out the area of interest\n",
    "for i in images_list:\n",
    "    convert_image_to_solid_circles_and_remove_dominant(int(i))"
   ]
  },
  {
   "cell_type": "code",
   "execution_count": 4,
   "metadata": {},
   "outputs": [],
   "source": [
    "import os\n",
    "from PIL import Image, ImageEnhance, ImageOps\n",
    "import numpy as np\n",
    "\n",
    "def create_augmented_images(image_path, augmentations_per_method=2):\n",
    "    \"\"\"\n",
    "    Create augmented images from a single input image, saving multiple variations for each augmentation technique.\n",
    "\n",
    "    :param image_path: Path to the original image.\n",
    "    :param augmentations_per_method: Number of augmented images to create per method.\n",
    "    \"\"\"\n",
    "    class_label = os.path.basename(image_path).split('.')[0]\n",
    "    dir_name = f\"Dataset/Augmented_dataset/{class_label}\"\n",
    "\n",
    "    if not os.path.exists(dir_name):\n",
    "        os.makedirs(dir_name)\n",
    "\n",
    "    image = Image.open(image_path)\n",
    "    width, height = image.size\n",
    "\n",
    "    # Augmentation operations\n",
    "    augmentations = [\n",
    "        (\"rotate\", lambda img, degree: img.rotate(degree)),\n",
    "        (\"scale\", lambda img, factor: img.resize((int(width * factor), int(height * factor)))),\n",
    "        (\"translate\", lambda img, shift: ImageOps.exif_transpose(img).transform(img.size, Image.AFFINE, (1, 0, shift, 0, 1, shift))),\n",
    "        (\"random_crop\", lambda img: img.crop((np.random.randint(0, width // 4), np.random.randint(0, height // 4), width - np.random.randint(0, width // 4), height - np.random.randint(0, height // 4))))\n",
    "    ]\n",
    "\n",
    "    for aug_name, aug_func in augmentations:\n",
    "        for i in range(augmentations_per_method):\n",
    "            if aug_name == \"rotate\":\n",
    "                degree = np.random.randint(-45, 45)  # Random rotation between -45 and 45 degrees\n",
    "                augmented_image = aug_func(image, degree)\n",
    "            elif aug_name == \"scale\":\n",
    "                factor = np.random.uniform(0.8, 1.2)  # Random scaling between 80% and 120%\n",
    "                augmented_image = aug_func(image, factor)\n",
    "            elif aug_name == \"translate\":\n",
    "                shift = np.random.randint(-width // 4, width // 4)  # Random translation\n",
    "                augmented_image = aug_func(image, shift)\n",
    "            elif aug_name == \"random_crop\":\n",
    "                augmented_image = aug_func(image)  # Random cropping doesn't need parameters here\n",
    "\n",
    "            augmented_image_path = os.path.join(dir_name, f\"{class_label}_{aug_name}_{i}.png\")\n",
    "            augmented_image.save(augmented_image_path)\n",
    "\n",
    "    #add the original image to the augmented images\n",
    "    original_image_path = os.path.join(dir_name, f\"{class_label}_original.png\")\n",
    "    image.save(original_image_path)\n",
    "\n",
    "#augmenting all the images and saving them to a directory\n",
    "for image in images_list:\n",
    "    create_augmented_images(f\"Dataset/Grain_Boundary_Segmented/{image}.png\")\n"
   ]
  },
  {
   "cell_type": "code",
   "execution_count": 5,
   "metadata": {},
   "outputs": [
    {
     "name": "stdout",
     "output_type": "stream",
     "text": [
      "324 324\n",
      "Total pairs after balancing and shuffling: 648\n"
     ]
    }
   ],
   "source": [
    "import os\n",
    "import random\n",
    "from itertools import combinations, product\n",
    "\n",
    "def create_and_shuffle_pairs(dataset_dir):\n",
    "    # List all class directories\n",
    "    class_dirs = [d for d in os.listdir(dataset_dir) if os.path.isdir(os.path.join(dataset_dir, d))]\n",
    "    \n",
    "    similar_pairs = []\n",
    "    dissimilar_pairs = []\n",
    "    \n",
    "    # Generate similar pairs (within the same class)\n",
    "    for class_dir in class_dirs:\n",
    "        image_files = os.listdir(os.path.join(dataset_dir, class_dir))\n",
    "        image_paths = [os.path.join(dataset_dir, class_dir, img) for img in image_files]\n",
    "        # Create all possible combinations of 2 images within the same class\n",
    "        for img1, img2 in combinations(image_paths, 2):\n",
    "            similar_pairs.append((img1, img2, 1))\n",
    "    \n",
    "    # Generate dissimilar pairs (across different classes)\n",
    "    for class1, class2 in combinations(class_dirs, 2):\n",
    "        image_files1 = os.listdir(os.path.join(dataset_dir, class1))\n",
    "        image_files2 = os.listdir(os.path.join(dataset_dir, class2))\n",
    "        image_paths1 = [os.path.join(dataset_dir, class1, img) for img in image_files1]\n",
    "        image_paths2 = [os.path.join(dataset_dir, class2, img) for img in image_files2]\n",
    "        # Create pairs from one image in class1 and another in class2\n",
    "        for img1, img2 in product(image_paths1, image_paths2):\n",
    "            dissimilar_pairs.append((img1, img2, 0))\n",
    "    \n",
    "    # Shuffle both sets of pairs to ensure randomness\n",
    "    random.shuffle(similar_pairs)\n",
    "    random.shuffle(dissimilar_pairs)\n",
    "    \n",
    "    # Now, to ensure there's no bias due to order or proportion, you can balance the dataset here\n",
    "    # For example, you might want to sample an equal number of similar and dissimilar pairs\n",
    "    # This step depends on the specific needs of your dataset and model.\n",
    "    # Assuming you want to keep all dissimilar pairs and a matching number of similar pairs:\n",
    "    min_pairs = min(len(similar_pairs), len(dissimilar_pairs))\n",
    "    balanced_similar_pairs = random.sample(similar_pairs, min_pairs)\n",
    "    balanced_dissimilar_pairs = random.sample(dissimilar_pairs, min_pairs)\n",
    "\n",
    "    # Combine and shuffle again to mix similar and dissimilar pairs\n",
    "    combined_pairs = balanced_similar_pairs + balanced_dissimilar_pairs\n",
    "    random.shuffle(combined_pairs)\n",
    "\n",
    "    print(len(balanced_similar_pairs), len(balanced_dissimilar_pairs))\n",
    "    \n",
    "    return combined_pairs\n",
    "\n",
    "# Example usage\n",
    "dataset_dir = 'Dataset/Augmented_dataset'  # Path to the dataset directory\n",
    "combined_pairs = create_and_shuffle_pairs(dataset_dir)\n",
    "print(f\"Total pairs after balancing and shuffling: {len(combined_pairs)}\")\n"
   ]
  },
  {
   "cell_type": "code",
   "execution_count": 6,
   "metadata": {},
   "outputs": [
    {
     "name": "stdout",
     "output_type": "stream",
     "text": [
      "[('Dataset/Augmented_dataset/16/16_original.png', 'Dataset/Augmented_dataset/1/1_translate_1.png', 0), ('Dataset/Augmented_dataset/61/61_random_crop_0.png', 'Dataset/Augmented_dataset/61/61_translate_0.png', 1), ('Dataset/Augmented_dataset/148/148_original.png', 'Dataset/Augmented_dataset/40/40_translate_0.png', 0), ('Dataset/Augmented_dataset/6/6_scale_1.png', 'Dataset/Augmented_dataset/6/6_rotate_1.png', 1), ('Dataset/Augmented_dataset/36/36_translate_1.png', 'Dataset/Augmented_dataset/52/52_translate_1.png', 0), ('Dataset/Augmented_dataset/52/52_translate_1.png', 'Dataset/Augmented_dataset/52/52_original.png', 1), ('Dataset/Augmented_dataset/1/1_scale_0.png', 'Dataset/Augmented_dataset/52/52_rotate_1.png', 0), ('Dataset/Augmented_dataset/6/6_original.png', 'Dataset/Augmented_dataset/36/36_original.png', 0), ('Dataset/Augmented_dataset/7/7_scale_0.png', 'Dataset/Augmented_dataset/7/7_original.png', 1), ('Dataset/Augmented_dataset/6/6_translate_0.png', 'Dataset/Augmented_dataset/6/6_random_crop_0.png', 1), ('Dataset/Augmented_dataset/7/7_random_crop_0.png', 'Dataset/Augmented_dataset/16/16_rotate_1.png', 0), ('Dataset/Augmented_dataset/61/61_rotate_1.png', 'Dataset/Augmented_dataset/52/52_scale_1.png', 0), ('Dataset/Augmented_dataset/148/148_translate_0.png', 'Dataset/Augmented_dataset/148/148_rotate_1.png', 1), ('Dataset/Augmented_dataset/1/1_random_crop_1.png', 'Dataset/Augmented_dataset/52/52_translate_1.png', 0), ('Dataset/Augmented_dataset/52/52_rotate_1.png', 'Dataset/Augmented_dataset/52/52_rotate_0.png', 1), ('Dataset/Augmented_dataset/52/52_scale_1.png', 'Dataset/Augmented_dataset/52/52_random_crop_1.png', 1), ('Dataset/Augmented_dataset/40/40_translate_1.png', 'Dataset/Augmented_dataset/40/40_translate_0.png', 1), ('Dataset/Augmented_dataset/1/1_scale_1.png', 'Dataset/Augmented_dataset/52/52_rotate_1.png', 0), ('Dataset/Augmented_dataset/1/1_translate_0.png', 'Dataset/Augmented_dataset/1/1_rotate_1.png', 1), ('Dataset/Augmented_dataset/40/40_random_crop_0.png', 'Dataset/Augmented_dataset/40/40_rotate_1.png', 1), ('Dataset/Augmented_dataset/36/36_scale_0.png', 'Dataset/Augmented_dataset/40/40_random_crop_1.png', 0), ('Dataset/Augmented_dataset/40/40_translate_1.png', 'Dataset/Augmented_dataset/40/40_random_crop_0.png', 1), ('Dataset/Augmented_dataset/7/7_translate_0.png', 'Dataset/Augmented_dataset/7/7_random_crop_1.png', 1), ('Dataset/Augmented_dataset/16/16_rotate_0.png', 'Dataset/Augmented_dataset/16/16_random_crop_1.png', 1), ('Dataset/Augmented_dataset/52/52_scale_0.png', 'Dataset/Augmented_dataset/52/52_random_crop_0.png', 1), ('Dataset/Augmented_dataset/36/36_rotate_1.png', 'Dataset/Augmented_dataset/36/36_random_crop_1.png', 1), ('Dataset/Augmented_dataset/6/6_random_crop_1.png', 'Dataset/Augmented_dataset/52/52_scale_1.png', 0), ('Dataset/Augmented_dataset/16/16_scale_0.png', 'Dataset/Augmented_dataset/36/36_rotate_0.png', 0), ('Dataset/Augmented_dataset/52/52_translate_1.png', 'Dataset/Augmented_dataset/52/52_translate_0.png', 1), ('Dataset/Augmented_dataset/36/36_scale_1.png', 'Dataset/Augmented_dataset/36/36_rotate_0.png', 1), ('Dataset/Augmented_dataset/7/7_original.png', 'Dataset/Augmented_dataset/7/7_random_crop_0.png', 1), ('Dataset/Augmented_dataset/40/40_scale_1.png', 'Dataset/Augmented_dataset/40/40_random_crop_0.png', 1), ('Dataset/Augmented_dataset/7/7_translate_0.png', 'Dataset/Augmented_dataset/7/7_rotate_0.png', 1), ('Dataset/Augmented_dataset/16/16_translate_1.png', 'Dataset/Augmented_dataset/16/16_scale_1.png', 1), ('Dataset/Augmented_dataset/6/6_translate_0.png', 'Dataset/Augmented_dataset/40/40_scale_0.png', 0), ('Dataset/Augmented_dataset/16/16_translate_0.png', 'Dataset/Augmented_dataset/16/16_scale_1.png', 1), ('Dataset/Augmented_dataset/6/6_rotate_1.png', 'Dataset/Augmented_dataset/6/6_random_crop_1.png', 1), ('Dataset/Augmented_dataset/36/36_rotate_0.png', 'Dataset/Augmented_dataset/36/36_original.png', 1), ('Dataset/Augmented_dataset/7/7_translate_0.png', 'Dataset/Augmented_dataset/148/148_rotate_0.png', 0), ('Dataset/Augmented_dataset/1/1_original.png', 'Dataset/Augmented_dataset/52/52_scale_1.png', 0), ('Dataset/Augmented_dataset/6/6_random_crop_0.png', 'Dataset/Augmented_dataset/148/148_translate_1.png', 0), ('Dataset/Augmented_dataset/40/40_translate_0.png', 'Dataset/Augmented_dataset/40/40_random_crop_1.png', 1), ('Dataset/Augmented_dataset/61/61_scale_0.png', 'Dataset/Augmented_dataset/61/61_random_crop_0.png', 1), ('Dataset/Augmented_dataset/16/16_translate_1.png', 'Dataset/Augmented_dataset/16/16_rotate_0.png', 1), ('Dataset/Augmented_dataset/61/61_scale_1.png', 'Dataset/Augmented_dataset/61/61_translate_0.png', 1), ('Dataset/Augmented_dataset/52/52_translate_0.png', 'Dataset/Augmented_dataset/52/52_original.png', 1), ('Dataset/Augmented_dataset/40/40_rotate_0.png', 'Dataset/Augmented_dataset/40/40_rotate_1.png', 1), ('Dataset/Augmented_dataset/16/16_original.png', 'Dataset/Augmented_dataset/16/16_scale_0.png', 1), ('Dataset/Augmented_dataset/6/6_random_crop_0.png', 'Dataset/Augmented_dataset/40/40_rotate_1.png', 0), ('Dataset/Augmented_dataset/1/1_scale_0.png', 'Dataset/Augmented_dataset/1/1_scale_1.png', 1), ('Dataset/Augmented_dataset/40/40_scale_1.png', 'Dataset/Augmented_dataset/40/40_random_crop_1.png', 1), ('Dataset/Augmented_dataset/6/6_original.png', 'Dataset/Augmented_dataset/6/6_random_crop_1.png', 1), ('Dataset/Augmented_dataset/52/52_rotate_1.png', 'Dataset/Augmented_dataset/52/52_scale_0.png', 1), ('Dataset/Augmented_dataset/6/6_translate_0.png', 'Dataset/Augmented_dataset/1/1_random_crop_1.png', 0), ('Dataset/Augmented_dataset/52/52_translate_0.png', 'Dataset/Augmented_dataset/52/52_scale_0.png', 1), ('Dataset/Augmented_dataset/61/61_original.png', 'Dataset/Augmented_dataset/6/6_rotate_0.png', 0), ('Dataset/Augmented_dataset/61/61_original.png', 'Dataset/Augmented_dataset/1/1_random_crop_0.png', 0), ('Dataset/Augmented_dataset/16/16_rotate_0.png', 'Dataset/Augmented_dataset/16/16_scale_1.png', 1), ('Dataset/Augmented_dataset/16/16_translate_1.png', 'Dataset/Augmented_dataset/36/36_scale_1.png', 0), ('Dataset/Augmented_dataset/6/6_original.png', 'Dataset/Augmented_dataset/40/40_scale_1.png', 0), ('Dataset/Augmented_dataset/16/16_rotate_1.png', 'Dataset/Augmented_dataset/36/36_random_crop_1.png', 0), ('Dataset/Augmented_dataset/36/36_scale_0.png', 'Dataset/Augmented_dataset/36/36_translate_1.png', 1), ('Dataset/Augmented_dataset/16/16_original.png', 'Dataset/Augmented_dataset/148/148_rotate_1.png', 0), ('Dataset/Augmented_dataset/61/61_rotate_1.png', 'Dataset/Augmented_dataset/6/6_translate_0.png', 0), ('Dataset/Augmented_dataset/40/40_translate_0.png', 'Dataset/Augmented_dataset/40/40_rotate_0.png', 1), ('Dataset/Augmented_dataset/16/16_translate_0.png', 'Dataset/Augmented_dataset/16/16_random_crop_1.png', 1), ('Dataset/Augmented_dataset/36/36_scale_1.png', 'Dataset/Augmented_dataset/52/52_translate_0.png', 0), ('Dataset/Augmented_dataset/7/7_scale_0.png', 'Dataset/Augmented_dataset/36/36_random_crop_0.png', 0), ('Dataset/Augmented_dataset/40/40_translate_1.png', 'Dataset/Augmented_dataset/40/40_rotate_0.png', 1), ('Dataset/Augmented_dataset/148/148_translate_0.png', 'Dataset/Augmented_dataset/40/40_rotate_1.png', 0), ('Dataset/Augmented_dataset/61/61_rotate_1.png', 'Dataset/Augmented_dataset/6/6_original.png', 0), ('Dataset/Augmented_dataset/6/6_rotate_0.png', 'Dataset/Augmented_dataset/148/148_rotate_1.png', 0), ('Dataset/Augmented_dataset/1/1_translate_1.png', 'Dataset/Augmented_dataset/1/1_rotate_1.png', 1), ('Dataset/Augmented_dataset/36/36_rotate_0.png', 'Dataset/Augmented_dataset/40/40_original.png', 0), ('Dataset/Augmented_dataset/52/52_rotate_0.png', 'Dataset/Augmented_dataset/52/52_random_crop_0.png', 1), ('Dataset/Augmented_dataset/7/7_scale_0.png', 'Dataset/Augmented_dataset/148/148_translate_0.png', 0), ('Dataset/Augmented_dataset/16/16_rotate_1.png', 'Dataset/Augmented_dataset/148/148_translate_0.png', 0), ('Dataset/Augmented_dataset/1/1_random_crop_1.png', 'Dataset/Augmented_dataset/36/36_scale_0.png', 0), ('Dataset/Augmented_dataset/7/7_rotate_1.png', 'Dataset/Augmented_dataset/40/40_original.png', 0), ('Dataset/Augmented_dataset/36/36_rotate_0.png', 'Dataset/Augmented_dataset/36/36_rotate_1.png', 1), ('Dataset/Augmented_dataset/16/16_translate_0.png', 'Dataset/Augmented_dataset/16/16_rotate_1.png', 1), ('Dataset/Augmented_dataset/1/1_rotate_1.png', 'Dataset/Augmented_dataset/1/1_random_crop_1.png', 1), ('Dataset/Augmented_dataset/16/16_rotate_0.png', 'Dataset/Augmented_dataset/36/36_translate_1.png', 0), ('Dataset/Augmented_dataset/7/7_scale_0.png', 'Dataset/Augmented_dataset/7/7_random_crop_0.png', 1), ('Dataset/Augmented_dataset/16/16_translate_0.png', 'Dataset/Augmented_dataset/16/16_translate_1.png', 1), ('Dataset/Augmented_dataset/16/16_scale_0.png', 'Dataset/Augmented_dataset/40/40_scale_0.png', 0), ('Dataset/Augmented_dataset/61/61_translate_0.png', 'Dataset/Augmented_dataset/52/52_rotate_0.png', 0), ('Dataset/Augmented_dataset/36/36_scale_1.png', 'Dataset/Augmented_dataset/52/52_random_crop_0.png', 0), ('Dataset/Augmented_dataset/7/7_scale_1.png', 'Dataset/Augmented_dataset/7/7_rotate_1.png', 1), ('Dataset/Augmented_dataset/7/7_rotate_1.png', 'Dataset/Augmented_dataset/6/6_translate_0.png', 0), ('Dataset/Augmented_dataset/16/16_scale_0.png', 'Dataset/Augmented_dataset/40/40_translate_1.png', 0), ('Dataset/Augmented_dataset/16/16_rotate_0.png', 'Dataset/Augmented_dataset/52/52_rotate_1.png', 0), ('Dataset/Augmented_dataset/36/36_rotate_0.png', 'Dataset/Augmented_dataset/52/52_scale_0.png', 0), ('Dataset/Augmented_dataset/1/1_scale_1.png', 'Dataset/Augmented_dataset/52/52_original.png', 0), ('Dataset/Augmented_dataset/7/7_scale_1.png', 'Dataset/Augmented_dataset/36/36_random_crop_1.png', 0), ('Dataset/Augmented_dataset/6/6_scale_0.png', 'Dataset/Augmented_dataset/6/6_scale_1.png', 1), ('Dataset/Augmented_dataset/61/61_rotate_1.png', 'Dataset/Augmented_dataset/61/61_random_crop_0.png', 1), ('Dataset/Augmented_dataset/36/36_scale_0.png', 'Dataset/Augmented_dataset/40/40_random_crop_0.png', 0), ('Dataset/Augmented_dataset/148/148_random_crop_1.png', 'Dataset/Augmented_dataset/148/148_rotate_0.png', 1), ('Dataset/Augmented_dataset/61/61_translate_1.png', 'Dataset/Augmented_dataset/6/6_translate_0.png', 0), ('Dataset/Augmented_dataset/7/7_translate_1.png', 'Dataset/Augmented_dataset/7/7_random_crop_0.png', 1), ('Dataset/Augmented_dataset/7/7_random_crop_1.png', 'Dataset/Augmented_dataset/1/1_translate_1.png', 0), ('Dataset/Augmented_dataset/52/52_scale_0.png', 'Dataset/Augmented_dataset/52/52_scale_1.png', 1), ('Dataset/Augmented_dataset/7/7_scale_0.png', 'Dataset/Augmented_dataset/52/52_translate_1.png', 0), ('Dataset/Augmented_dataset/36/36_scale_1.png', 'Dataset/Augmented_dataset/36/36_translate_1.png', 1), ('Dataset/Augmented_dataset/52/52_scale_0.png', 'Dataset/Augmented_dataset/148/148_original.png', 0), ('Dataset/Augmented_dataset/36/36_scale_0.png', 'Dataset/Augmented_dataset/36/36_translate_0.png', 1), ('Dataset/Augmented_dataset/40/40_translate_0.png', 'Dataset/Augmented_dataset/40/40_random_crop_0.png', 1), ('Dataset/Augmented_dataset/52/52_rotate_1.png', 'Dataset/Augmented_dataset/52/52_random_crop_1.png', 1), ('Dataset/Augmented_dataset/148/148_translate_1.png', 'Dataset/Augmented_dataset/148/148_original.png', 1), ('Dataset/Augmented_dataset/6/6_scale_0.png', 'Dataset/Augmented_dataset/6/6_random_crop_0.png', 1), ('Dataset/Augmented_dataset/148/148_translate_0.png', 'Dataset/Augmented_dataset/40/40_scale_1.png', 0), ('Dataset/Augmented_dataset/7/7_translate_0.png', 'Dataset/Augmented_dataset/52/52_random_crop_1.png', 0), ('Dataset/Augmented_dataset/7/7_scale_1.png', 'Dataset/Augmented_dataset/7/7_scale_0.png', 1), ('Dataset/Augmented_dataset/148/148_translate_0.png', 'Dataset/Augmented_dataset/148/148_original.png', 1), ('Dataset/Augmented_dataset/7/7_original.png', 'Dataset/Augmented_dataset/1/1_scale_1.png', 0), ('Dataset/Augmented_dataset/61/61_scale_0.png', 'Dataset/Augmented_dataset/61/61_rotate_0.png', 1), ('Dataset/Augmented_dataset/61/61_translate_1.png', 'Dataset/Augmented_dataset/6/6_scale_1.png', 0), ('Dataset/Augmented_dataset/7/7_scale_1.png', 'Dataset/Augmented_dataset/52/52_random_crop_0.png', 0), ('Dataset/Augmented_dataset/61/61_rotate_0.png', 'Dataset/Augmented_dataset/61/61_rotate_1.png', 1), ('Dataset/Augmented_dataset/16/16_rotate_1.png', 'Dataset/Augmented_dataset/1/1_original.png', 0), ('Dataset/Augmented_dataset/16/16_rotate_1.png', 'Dataset/Augmented_dataset/16/16_scale_0.png', 1), ('Dataset/Augmented_dataset/16/16_rotate_0.png', 'Dataset/Augmented_dataset/40/40_translate_0.png', 0), ('Dataset/Augmented_dataset/52/52_original.png', 'Dataset/Augmented_dataset/40/40_scale_1.png', 0), ('Dataset/Augmented_dataset/40/40_original.png', 'Dataset/Augmented_dataset/40/40_rotate_1.png', 1), ('Dataset/Augmented_dataset/6/6_scale_1.png', 'Dataset/Augmented_dataset/6/6_random_crop_1.png', 1), ('Dataset/Augmented_dataset/16/16_scale_1.png', 'Dataset/Augmented_dataset/6/6_rotate_1.png', 0), ('Dataset/Augmented_dataset/6/6_scale_1.png', 'Dataset/Augmented_dataset/148/148_translate_1.png', 0), ('Dataset/Augmented_dataset/1/1_original.png', 'Dataset/Augmented_dataset/1/1_scale_0.png', 1), ('Dataset/Augmented_dataset/36/36_rotate_1.png', 'Dataset/Augmented_dataset/36/36_translate_0.png', 1), ('Dataset/Augmented_dataset/7/7_random_crop_0.png', 'Dataset/Augmented_dataset/7/7_random_crop_1.png', 1), ('Dataset/Augmented_dataset/148/148_scale_1.png', 'Dataset/Augmented_dataset/148/148_rotate_1.png', 1), ('Dataset/Augmented_dataset/1/1_rotate_0.png', 'Dataset/Augmented_dataset/1/1_scale_0.png', 1), ('Dataset/Augmented_dataset/16/16_rotate_1.png', 'Dataset/Augmented_dataset/16/16_random_crop_1.png', 1), ('Dataset/Augmented_dataset/16/16_rotate_0.png', 'Dataset/Augmented_dataset/52/52_translate_0.png', 0), ('Dataset/Augmented_dataset/7/7_rotate_0.png', 'Dataset/Augmented_dataset/40/40_random_crop_0.png', 0), ('Dataset/Augmented_dataset/61/61_rotate_0.png', 'Dataset/Augmented_dataset/16/16_translate_0.png', 0), ('Dataset/Augmented_dataset/7/7_translate_1.png', 'Dataset/Augmented_dataset/7/7_scale_0.png', 1), ('Dataset/Augmented_dataset/7/7_rotate_0.png', 'Dataset/Augmented_dataset/148/148_original.png', 0), ('Dataset/Augmented_dataset/1/1_original.png', 'Dataset/Augmented_dataset/1/1_scale_1.png', 1), ('Dataset/Augmented_dataset/148/148_translate_0.png', 'Dataset/Augmented_dataset/148/148_scale_0.png', 1), ('Dataset/Augmented_dataset/1/1_random_crop_1.png', 'Dataset/Augmented_dataset/1/1_scale_0.png', 1), ('Dataset/Augmented_dataset/36/36_original.png', 'Dataset/Augmented_dataset/36/36_rotate_1.png', 1), ('Dataset/Augmented_dataset/36/36_original.png', 'Dataset/Augmented_dataset/36/36_random_crop_1.png', 1), ('Dataset/Augmented_dataset/16/16_original.png', 'Dataset/Augmented_dataset/36/36_translate_1.png', 0), ('Dataset/Augmented_dataset/36/36_original.png', 'Dataset/Augmented_dataset/36/36_translate_0.png', 1), ('Dataset/Augmented_dataset/52/52_rotate_1.png', 'Dataset/Augmented_dataset/52/52_original.png', 1), ('Dataset/Augmented_dataset/40/40_random_crop_1.png', 'Dataset/Augmented_dataset/40/40_original.png', 1), ('Dataset/Augmented_dataset/61/61_rotate_0.png', 'Dataset/Augmented_dataset/7/7_rotate_0.png', 0), ('Dataset/Augmented_dataset/148/148_scale_1.png', 'Dataset/Augmented_dataset/148/148_random_crop_0.png', 1), ('Dataset/Augmented_dataset/1/1_translate_0.png', 'Dataset/Augmented_dataset/40/40_translate_1.png', 0), ('Dataset/Augmented_dataset/7/7_translate_1.png', 'Dataset/Augmented_dataset/7/7_random_crop_1.png', 1), ('Dataset/Augmented_dataset/7/7_scale_1.png', 'Dataset/Augmented_dataset/7/7_random_crop_1.png', 1), ('Dataset/Augmented_dataset/148/148_rotate_1.png', 'Dataset/Augmented_dataset/40/40_random_crop_0.png', 0), ('Dataset/Augmented_dataset/36/36_rotate_0.png', 'Dataset/Augmented_dataset/36/36_translate_1.png', 1), ('Dataset/Augmented_dataset/52/52_scale_0.png', 'Dataset/Augmented_dataset/148/148_translate_0.png', 0), ('Dataset/Augmented_dataset/7/7_scale_1.png', 'Dataset/Augmented_dataset/7/7_random_crop_0.png', 1), ('Dataset/Augmented_dataset/7/7_translate_0.png', 'Dataset/Augmented_dataset/7/7_scale_0.png', 1), ('Dataset/Augmented_dataset/52/52_random_crop_0.png', 'Dataset/Augmented_dataset/40/40_scale_0.png', 0), ('Dataset/Augmented_dataset/1/1_translate_0.png', 'Dataset/Augmented_dataset/1/1_scale_1.png', 1), ('Dataset/Augmented_dataset/36/36_translate_1.png', 'Dataset/Augmented_dataset/36/36_translate_0.png', 1), ('Dataset/Augmented_dataset/148/148_scale_1.png', 'Dataset/Augmented_dataset/148/148_rotate_0.png', 1), ('Dataset/Augmented_dataset/61/61_original.png', 'Dataset/Augmented_dataset/52/52_original.png', 0), ('Dataset/Augmented_dataset/1/1_original.png', 'Dataset/Augmented_dataset/36/36_translate_1.png', 0), ('Dataset/Augmented_dataset/148/148_translate_0.png', 'Dataset/Augmented_dataset/148/148_random_crop_0.png', 1), ('Dataset/Augmented_dataset/52/52_translate_1.png', 'Dataset/Augmented_dataset/40/40_scale_1.png', 0), ('Dataset/Augmented_dataset/7/7_rotate_0.png', 'Dataset/Augmented_dataset/40/40_original.png', 0), ('Dataset/Augmented_dataset/6/6_original.png', 'Dataset/Augmented_dataset/36/36_translate_0.png', 0), ('Dataset/Augmented_dataset/148/148_translate_0.png', 'Dataset/Augmented_dataset/148/148_translate_1.png', 1), ('Dataset/Augmented_dataset/61/61_rotate_0.png', 'Dataset/Augmented_dataset/36/36_scale_1.png', 0), ('Dataset/Augmented_dataset/36/36_random_crop_0.png', 'Dataset/Augmented_dataset/40/40_scale_0.png', 0), ('Dataset/Augmented_dataset/7/7_rotate_1.png', 'Dataset/Augmented_dataset/36/36_random_crop_0.png', 0), ('Dataset/Augmented_dataset/16/16_random_crop_1.png', 'Dataset/Augmented_dataset/40/40_random_crop_1.png', 0), ('Dataset/Augmented_dataset/36/36_translate_0.png', 'Dataset/Augmented_dataset/36/36_random_crop_1.png', 1), ('Dataset/Augmented_dataset/148/148_scale_0.png', 'Dataset/Augmented_dataset/148/148_rotate_0.png', 1), ('Dataset/Augmented_dataset/36/36_rotate_1.png', 'Dataset/Augmented_dataset/36/36_random_crop_0.png', 1), ('Dataset/Augmented_dataset/61/61_translate_1.png', 'Dataset/Augmented_dataset/148/148_original.png', 0), ('Dataset/Augmented_dataset/36/36_scale_0.png', 'Dataset/Augmented_dataset/36/36_rotate_1.png', 1), ('Dataset/Augmented_dataset/7/7_translate_1.png', 'Dataset/Augmented_dataset/148/148_random_crop_0.png', 0), ('Dataset/Augmented_dataset/6/6_translate_0.png', 'Dataset/Augmented_dataset/52/52_scale_0.png', 0), ('Dataset/Augmented_dataset/7/7_translate_1.png', 'Dataset/Augmented_dataset/7/7_rotate_0.png', 1), ('Dataset/Augmented_dataset/61/61_scale_1.png', 'Dataset/Augmented_dataset/16/16_original.png', 0), ('Dataset/Augmented_dataset/1/1_translate_0.png', 'Dataset/Augmented_dataset/52/52_rotate_0.png', 0), ('Dataset/Augmented_dataset/1/1_rotate_1.png', 'Dataset/Augmented_dataset/1/1_scale_1.png', 1), ('Dataset/Augmented_dataset/61/61_random_crop_0.png', 'Dataset/Augmented_dataset/61/61_translate_1.png', 1), ('Dataset/Augmented_dataset/7/7_translate_1.png', 'Dataset/Augmented_dataset/40/40_scale_0.png', 0), ('Dataset/Augmented_dataset/61/61_rotate_0.png', 'Dataset/Augmented_dataset/6/6_original.png', 0), ('Dataset/Augmented_dataset/36/36_rotate_0.png', 'Dataset/Augmented_dataset/52/52_rotate_0.png', 0), ('Dataset/Augmented_dataset/1/1_rotate_0.png', 'Dataset/Augmented_dataset/52/52_rotate_1.png', 0), ('Dataset/Augmented_dataset/16/16_rotate_1.png', 'Dataset/Augmented_dataset/6/6_scale_1.png', 0), ('Dataset/Augmented_dataset/16/16_random_crop_0.png', 'Dataset/Augmented_dataset/16/16_scale_0.png', 1), ('Dataset/Augmented_dataset/16/16_translate_0.png', 'Dataset/Augmented_dataset/6/6_original.png', 0), ('Dataset/Augmented_dataset/6/6_scale_1.png', 'Dataset/Augmented_dataset/6/6_random_crop_0.png', 1), ('Dataset/Augmented_dataset/1/1_translate_0.png', 'Dataset/Augmented_dataset/1/1_scale_0.png', 1), ('Dataset/Augmented_dataset/1/1_random_crop_1.png', 'Dataset/Augmented_dataset/36/36_translate_1.png', 0), ('Dataset/Augmented_dataset/6/6_rotate_0.png', 'Dataset/Augmented_dataset/52/52_random_crop_0.png', 0), ('Dataset/Augmented_dataset/16/16_random_crop_1.png', 'Dataset/Augmented_dataset/16/16_random_crop_0.png', 1), ('Dataset/Augmented_dataset/61/61_random_crop_1.png', 'Dataset/Augmented_dataset/52/52_rotate_1.png', 0), ('Dataset/Augmented_dataset/61/61_rotate_1.png', 'Dataset/Augmented_dataset/148/148_rotate_0.png', 0), ('Dataset/Augmented_dataset/16/16_scale_0.png', 'Dataset/Augmented_dataset/36/36_original.png', 0), ('Dataset/Augmented_dataset/61/61_original.png', 'Dataset/Augmented_dataset/61/61_rotate_1.png', 1), ('Dataset/Augmented_dataset/61/61_translate_1.png', 'Dataset/Augmented_dataset/16/16_translate_0.png', 0), ('Dataset/Augmented_dataset/6/6_scale_0.png', 'Dataset/Augmented_dataset/148/148_translate_1.png', 0), ('Dataset/Augmented_dataset/40/40_translate_1.png', 'Dataset/Augmented_dataset/40/40_original.png', 1), ('Dataset/Augmented_dataset/7/7_translate_0.png', 'Dataset/Augmented_dataset/148/148_translate_1.png', 0), ('Dataset/Augmented_dataset/16/16_original.png', 'Dataset/Augmented_dataset/16/16_random_crop_0.png', 1), ('Dataset/Augmented_dataset/6/6_translate_1.png', 'Dataset/Augmented_dataset/6/6_random_crop_1.png', 1), ('Dataset/Augmented_dataset/6/6_scale_1.png', 'Dataset/Augmented_dataset/6/6_original.png', 1), ('Dataset/Augmented_dataset/61/61_original.png', 'Dataset/Augmented_dataset/148/148_rotate_0.png', 0), ('Dataset/Augmented_dataset/16/16_translate_0.png', 'Dataset/Augmented_dataset/16/16_random_crop_0.png', 1), ('Dataset/Augmented_dataset/61/61_original.png', 'Dataset/Augmented_dataset/61/61_translate_0.png', 1), ('Dataset/Augmented_dataset/6/6_scale_0.png', 'Dataset/Augmented_dataset/6/6_rotate_1.png', 1), ('Dataset/Augmented_dataset/16/16_rotate_1.png', 'Dataset/Augmented_dataset/1/1_rotate_1.png', 0), ('Dataset/Augmented_dataset/7/7_translate_1.png', 'Dataset/Augmented_dataset/148/148_translate_1.png', 0), ('Dataset/Augmented_dataset/7/7_random_crop_1.png', 'Dataset/Augmented_dataset/36/36_random_crop_0.png', 0), ('Dataset/Augmented_dataset/1/1_translate_1.png', 'Dataset/Augmented_dataset/1/1_translate_0.png', 1), ('Dataset/Augmented_dataset/40/40_scale_1.png', 'Dataset/Augmented_dataset/40/40_scale_0.png', 1), ('Dataset/Augmented_dataset/148/148_random_crop_1.png', 'Dataset/Augmented_dataset/148/148_random_crop_0.png', 1), ('Dataset/Augmented_dataset/6/6_original.png', 'Dataset/Augmented_dataset/52/52_scale_1.png', 0), ('Dataset/Augmented_dataset/52/52_translate_1.png', 'Dataset/Augmented_dataset/52/52_rotate_0.png', 1), ('Dataset/Augmented_dataset/7/7_rotate_1.png', 'Dataset/Augmented_dataset/40/40_translate_1.png', 0), ('Dataset/Augmented_dataset/1/1_random_crop_1.png', 'Dataset/Augmented_dataset/148/148_translate_1.png', 0), ('Dataset/Augmented_dataset/52/52_original.png', 'Dataset/Augmented_dataset/52/52_scale_0.png', 1), ('Dataset/Augmented_dataset/7/7_rotate_1.png', 'Dataset/Augmented_dataset/1/1_random_crop_0.png', 0), ('Dataset/Augmented_dataset/52/52_rotate_1.png', 'Dataset/Augmented_dataset/52/52_translate_0.png', 1), ('Dataset/Augmented_dataset/1/1_random_crop_1.png', 'Dataset/Augmented_dataset/36/36_rotate_1.png', 0), ('Dataset/Augmented_dataset/7/7_random_crop_1.png', 'Dataset/Augmented_dataset/1/1_translate_0.png', 0), ('Dataset/Augmented_dataset/148/148_scale_0.png', 'Dataset/Augmented_dataset/148/148_rotate_1.png', 1), ('Dataset/Augmented_dataset/61/61_rotate_0.png', 'Dataset/Augmented_dataset/61/61_translate_1.png', 1), ('Dataset/Augmented_dataset/7/7_translate_1.png', 'Dataset/Augmented_dataset/1/1_scale_1.png', 0), ('Dataset/Augmented_dataset/6/6_scale_1.png', 'Dataset/Augmented_dataset/6/6_translate_1.png', 1), ('Dataset/Augmented_dataset/61/61_scale_0.png', 'Dataset/Augmented_dataset/61/61_original.png', 1), ('Dataset/Augmented_dataset/7/7_rotate_1.png', 'Dataset/Augmented_dataset/1/1_translate_0.png', 0), ('Dataset/Augmented_dataset/61/61_scale_1.png', 'Dataset/Augmented_dataset/61/61_original.png', 1), ('Dataset/Augmented_dataset/61/61_original.png', 'Dataset/Augmented_dataset/61/61_random_crop_1.png', 1), ('Dataset/Augmented_dataset/1/1_original.png', 'Dataset/Augmented_dataset/1/1_rotate_0.png', 1), ('Dataset/Augmented_dataset/6/6_random_crop_0.png', 'Dataset/Augmented_dataset/36/36_original.png', 0), ('Dataset/Augmented_dataset/16/16_rotate_1.png', 'Dataset/Augmented_dataset/16/16_random_crop_0.png', 1), ('Dataset/Augmented_dataset/1/1_translate_1.png', 'Dataset/Augmented_dataset/1/1_scale_1.png', 1), ('Dataset/Augmented_dataset/61/61_translate_0.png', 'Dataset/Augmented_dataset/61/61_translate_1.png', 1), ('Dataset/Augmented_dataset/61/61_scale_1.png', 'Dataset/Augmented_dataset/16/16_translate_0.png', 0), ('Dataset/Augmented_dataset/61/61_original.png', 'Dataset/Augmented_dataset/6/6_scale_1.png', 0), ('Dataset/Augmented_dataset/52/52_original.png', 'Dataset/Augmented_dataset/52/52_random_crop_1.png', 1), ('Dataset/Augmented_dataset/1/1_translate_1.png', 'Dataset/Augmented_dataset/1/1_rotate_0.png', 1), ('Dataset/Augmented_dataset/52/52_rotate_0.png', 'Dataset/Augmented_dataset/52/52_scale_0.png', 1), ('Dataset/Augmented_dataset/1/1_random_crop_1.png', 'Dataset/Augmented_dataset/148/148_scale_1.png', 0), ('Dataset/Augmented_dataset/52/52_translate_0.png', 'Dataset/Augmented_dataset/40/40_rotate_0.png', 0), ('Dataset/Augmented_dataset/6/6_rotate_1.png', 'Dataset/Augmented_dataset/1/1_random_crop_1.png', 0), ('Dataset/Augmented_dataset/7/7_scale_0.png', 'Dataset/Augmented_dataset/1/1_scale_0.png', 0), ('Dataset/Augmented_dataset/1/1_translate_1.png', 'Dataset/Augmented_dataset/1/1_random_crop_0.png', 1), ('Dataset/Augmented_dataset/7/7_rotate_0.png', 'Dataset/Augmented_dataset/7/7_random_crop_1.png', 1), ('Dataset/Augmented_dataset/6/6_scale_1.png', 'Dataset/Augmented_dataset/40/40_scale_0.png', 0), ('Dataset/Augmented_dataset/40/40_random_crop_0.png', 'Dataset/Augmented_dataset/40/40_original.png', 1), ('Dataset/Augmented_dataset/7/7_random_crop_0.png', 'Dataset/Augmented_dataset/16/16_original.png', 0), ('Dataset/Augmented_dataset/1/1_translate_1.png', 'Dataset/Augmented_dataset/36/36_rotate_1.png', 0), ('Dataset/Augmented_dataset/61/61_random_crop_0.png', 'Dataset/Augmented_dataset/36/36_rotate_0.png', 0), ('Dataset/Augmented_dataset/1/1_rotate_0.png', 'Dataset/Augmented_dataset/1/1_random_crop_0.png', 1), ('Dataset/Augmented_dataset/36/36_rotate_0.png', 'Dataset/Augmented_dataset/36/36_random_crop_0.png', 1), ('Dataset/Augmented_dataset/36/36_translate_0.png', 'Dataset/Augmented_dataset/36/36_random_crop_0.png', 1), ('Dataset/Augmented_dataset/40/40_random_crop_1.png', 'Dataset/Augmented_dataset/40/40_rotate_1.png', 1), ('Dataset/Augmented_dataset/7/7_random_crop_0.png', 'Dataset/Augmented_dataset/1/1_random_crop_0.png', 0), ('Dataset/Augmented_dataset/40/40_scale_1.png', 'Dataset/Augmented_dataset/40/40_original.png', 1), ('Dataset/Augmented_dataset/16/16_rotate_0.png', 'Dataset/Augmented_dataset/16/16_scale_0.png', 1), ('Dataset/Augmented_dataset/40/40_random_crop_0.png', 'Dataset/Augmented_dataset/40/40_rotate_0.png', 1), ('Dataset/Augmented_dataset/7/7_random_crop_1.png', 'Dataset/Augmented_dataset/16/16_translate_0.png', 0), ('Dataset/Augmented_dataset/16/16_original.png', 'Dataset/Augmented_dataset/148/148_scale_1.png', 0), ('Dataset/Augmented_dataset/16/16_rotate_0.png', 'Dataset/Augmented_dataset/6/6_rotate_1.png', 0), ('Dataset/Augmented_dataset/1/1_original.png', 'Dataset/Augmented_dataset/40/40_translate_0.png', 0), ('Dataset/Augmented_dataset/61/61_scale_1.png', 'Dataset/Augmented_dataset/61/61_translate_1.png', 1), ('Dataset/Augmented_dataset/16/16_rotate_1.png', 'Dataset/Augmented_dataset/16/16_original.png', 1), ('Dataset/Augmented_dataset/16/16_rotate_0.png', 'Dataset/Augmented_dataset/16/16_random_crop_0.png', 1), ('Dataset/Augmented_dataset/61/61_scale_0.png', 'Dataset/Augmented_dataset/16/16_scale_1.png', 0), ('Dataset/Augmented_dataset/7/7_translate_0.png', 'Dataset/Augmented_dataset/52/52_scale_1.png', 0), ('Dataset/Augmented_dataset/40/40_translate_0.png', 'Dataset/Augmented_dataset/40/40_original.png', 1), ('Dataset/Augmented_dataset/52/52_translate_1.png', 'Dataset/Augmented_dataset/52/52_scale_0.png', 1), ('Dataset/Augmented_dataset/61/61_rotate_1.png', 'Dataset/Augmented_dataset/61/61_translate_1.png', 1), ('Dataset/Augmented_dataset/16/16_translate_0.png', 'Dataset/Augmented_dataset/148/148_random_crop_0.png', 0), ('Dataset/Augmented_dataset/16/16_rotate_1.png', 'Dataset/Augmented_dataset/6/6_original.png', 0), ('Dataset/Augmented_dataset/61/61_translate_0.png', 'Dataset/Augmented_dataset/36/36_random_crop_0.png', 0), ('Dataset/Augmented_dataset/40/40_scale_1.png', 'Dataset/Augmented_dataset/40/40_translate_0.png', 1), ('Dataset/Augmented_dataset/1/1_original.png', 'Dataset/Augmented_dataset/40/40_translate_1.png', 0), ('Dataset/Augmented_dataset/61/61_random_crop_0.png', 'Dataset/Augmented_dataset/52/52_scale_0.png', 0), ('Dataset/Augmented_dataset/61/61_rotate_0.png', 'Dataset/Augmented_dataset/61/61_random_crop_0.png', 1), ('Dataset/Augmented_dataset/16/16_random_crop_0.png', 'Dataset/Augmented_dataset/148/148_translate_1.png', 0), ('Dataset/Augmented_dataset/6/6_scale_1.png', 'Dataset/Augmented_dataset/6/6_rotate_0.png', 1), ('Dataset/Augmented_dataset/7/7_translate_0.png', 'Dataset/Augmented_dataset/7/7_random_crop_0.png', 1), ('Dataset/Augmented_dataset/16/16_translate_0.png', 'Dataset/Augmented_dataset/36/36_scale_0.png', 0), ('Dataset/Augmented_dataset/148/148_scale_1.png', 'Dataset/Augmented_dataset/40/40_translate_0.png', 0), ('Dataset/Augmented_dataset/7/7_translate_1.png', 'Dataset/Augmented_dataset/52/52_scale_0.png', 0), ('Dataset/Augmented_dataset/148/148_scale_0.png', 'Dataset/Augmented_dataset/148/148_original.png', 1), ('Dataset/Augmented_dataset/61/61_random_crop_0.png', 'Dataset/Augmented_dataset/7/7_random_crop_1.png', 0), ('Dataset/Augmented_dataset/16/16_rotate_1.png', 'Dataset/Augmented_dataset/36/36_translate_0.png', 0), ('Dataset/Augmented_dataset/36/36_scale_1.png', 'Dataset/Augmented_dataset/36/36_random_crop_0.png', 1), ('Dataset/Augmented_dataset/16/16_original.png', 'Dataset/Augmented_dataset/6/6_random_crop_1.png', 0), ('Dataset/Augmented_dataset/1/1_original.png', 'Dataset/Augmented_dataset/1/1_rotate_1.png', 1), ('Dataset/Augmented_dataset/61/61_random_crop_0.png', 'Dataset/Augmented_dataset/6/6_translate_1.png', 0), ('Dataset/Augmented_dataset/1/1_original.png', 'Dataset/Augmented_dataset/1/1_random_crop_1.png', 1), ('Dataset/Augmented_dataset/61/61_scale_0.png', 'Dataset/Augmented_dataset/61/61_translate_0.png', 1), ('Dataset/Augmented_dataset/6/6_rotate_1.png', 'Dataset/Augmented_dataset/6/6_random_crop_0.png', 1), ('Dataset/Augmented_dataset/148/148_scale_0.png', 'Dataset/Augmented_dataset/40/40_rotate_0.png', 0), ('Dataset/Augmented_dataset/148/148_scale_1.png', 'Dataset/Augmented_dataset/148/148_random_crop_1.png', 1), ('Dataset/Augmented_dataset/6/6_scale_0.png', 'Dataset/Augmented_dataset/1/1_random_crop_0.png', 0), ('Dataset/Augmented_dataset/52/52_translate_1.png', 'Dataset/Augmented_dataset/52/52_rotate_1.png', 1), ('Dataset/Augmented_dataset/1/1_translate_1.png', 'Dataset/Augmented_dataset/1/1_original.png', 1), ('Dataset/Augmented_dataset/52/52_scale_1.png', 'Dataset/Augmented_dataset/52/52_random_crop_0.png', 1), ('Dataset/Augmented_dataset/6/6_random_crop_0.png', 'Dataset/Augmented_dataset/52/52_scale_0.png', 0), ('Dataset/Augmented_dataset/1/1_random_crop_1.png', 'Dataset/Augmented_dataset/40/40_rotate_1.png', 0), ('Dataset/Augmented_dataset/6/6_translate_0.png', 'Dataset/Augmented_dataset/6/6_rotate_1.png', 1), ('Dataset/Augmented_dataset/61/61_scale_1.png', 'Dataset/Augmented_dataset/36/36_translate_0.png', 0), ('Dataset/Augmented_dataset/16/16_translate_0.png', 'Dataset/Augmented_dataset/16/16_original.png', 1), ('Dataset/Augmented_dataset/16/16_random_crop_1.png', 'Dataset/Augmented_dataset/36/36_translate_0.png', 0), ('Dataset/Augmented_dataset/7/7_scale_1.png', 'Dataset/Augmented_dataset/7/7_rotate_0.png', 1), ('Dataset/Augmented_dataset/1/1_translate_0.png', 'Dataset/Augmented_dataset/36/36_rotate_1.png', 0), ('Dataset/Augmented_dataset/1/1_scale_0.png', 'Dataset/Augmented_dataset/36/36_translate_1.png', 0), ('Dataset/Augmented_dataset/52/52_translate_0.png', 'Dataset/Augmented_dataset/52/52_random_crop_0.png', 1), ('Dataset/Augmented_dataset/61/61_random_crop_0.png', 'Dataset/Augmented_dataset/36/36_scale_1.png', 0), ('Dataset/Augmented_dataset/61/61_rotate_0.png', 'Dataset/Augmented_dataset/61/61_translate_0.png', 1), ('Dataset/Augmented_dataset/36/36_original.png', 'Dataset/Augmented_dataset/36/36_random_crop_0.png', 1), ('Dataset/Augmented_dataset/36/36_scale_1.png', 'Dataset/Augmented_dataset/36/36_original.png', 1), ('Dataset/Augmented_dataset/148/148_translate_0.png', 'Dataset/Augmented_dataset/148/148_rotate_0.png', 1), ('Dataset/Augmented_dataset/1/1_random_crop_1.png', 'Dataset/Augmented_dataset/52/52_scale_0.png', 0), ('Dataset/Augmented_dataset/36/36_random_crop_1.png', 'Dataset/Augmented_dataset/52/52_scale_1.png', 0), ('Dataset/Augmented_dataset/16/16_original.png', 'Dataset/Augmented_dataset/1/1_rotate_0.png', 0), ('Dataset/Augmented_dataset/61/61_scale_1.png', 'Dataset/Augmented_dataset/61/61_rotate_0.png', 1), ('Dataset/Augmented_dataset/61/61_random_crop_1.png', 'Dataset/Augmented_dataset/36/36_translate_0.png', 0), ('Dataset/Augmented_dataset/7/7_translate_0.png', 'Dataset/Augmented_dataset/16/16_random_crop_1.png', 0), ('Dataset/Augmented_dataset/16/16_random_crop_1.png', 'Dataset/Augmented_dataset/16/16_scale_0.png', 1), ('Dataset/Augmented_dataset/148/148_original.png', 'Dataset/Augmented_dataset/40/40_rotate_1.png', 0), ('Dataset/Augmented_dataset/61/61_translate_0.png', 'Dataset/Augmented_dataset/148/148_random_crop_1.png', 0), ('Dataset/Augmented_dataset/16/16_original.png', 'Dataset/Augmented_dataset/16/16_rotate_0.png', 1), ('Dataset/Augmented_dataset/16/16_rotate_1.png', 'Dataset/Augmented_dataset/36/36_random_crop_0.png', 0), ('Dataset/Augmented_dataset/7/7_random_crop_1.png', 'Dataset/Augmented_dataset/16/16_random_crop_1.png', 0), ('Dataset/Augmented_dataset/1/1_rotate_0.png', 'Dataset/Augmented_dataset/1/1_random_crop_1.png', 1), ('Dataset/Augmented_dataset/1/1_random_crop_0.png', 'Dataset/Augmented_dataset/40/40_rotate_1.png', 0), ('Dataset/Augmented_dataset/36/36_scale_0.png', 'Dataset/Augmented_dataset/36/36_random_crop_0.png', 1), ('Dataset/Augmented_dataset/52/52_translate_0.png', 'Dataset/Augmented_dataset/52/52_random_crop_1.png', 1), ('Dataset/Augmented_dataset/36/36_scale_1.png', 'Dataset/Augmented_dataset/52/52_random_crop_1.png', 0), ('Dataset/Augmented_dataset/6/6_original.png', 'Dataset/Augmented_dataset/6/6_rotate_1.png', 1), ('Dataset/Augmented_dataset/61/61_rotate_1.png', 'Dataset/Augmented_dataset/52/52_random_crop_0.png', 0), ('Dataset/Augmented_dataset/16/16_translate_0.png', 'Dataset/Augmented_dataset/16/16_rotate_0.png', 1), ('Dataset/Augmented_dataset/61/61_original.png', 'Dataset/Augmented_dataset/61/61_rotate_0.png', 1), ('Dataset/Augmented_dataset/6/6_rotate_1.png', 'Dataset/Augmented_dataset/148/148_scale_1.png', 0), ('Dataset/Augmented_dataset/52/52_random_crop_1.png', 'Dataset/Augmented_dataset/52/52_random_crop_0.png', 1), ('Dataset/Augmented_dataset/7/7_rotate_1.png', 'Dataset/Augmented_dataset/36/36_random_crop_1.png', 0), ('Dataset/Augmented_dataset/36/36_rotate_0.png', 'Dataset/Augmented_dataset/36/36_translate_0.png', 1), ('Dataset/Augmented_dataset/6/6_translate_1.png', 'Dataset/Augmented_dataset/148/148_random_crop_1.png', 0), ('Dataset/Augmented_dataset/1/1_translate_1.png', 'Dataset/Augmented_dataset/52/52_translate_1.png', 0), ('Dataset/Augmented_dataset/1/1_random_crop_1.png', 'Dataset/Augmented_dataset/148/148_random_crop_1.png', 0), ('Dataset/Augmented_dataset/16/16_translate_0.png', 'Dataset/Augmented_dataset/52/52_random_crop_1.png', 0), ('Dataset/Augmented_dataset/1/1_translate_1.png', 'Dataset/Augmented_dataset/1/1_random_crop_1.png', 1), ('Dataset/Augmented_dataset/36/36_scale_0.png', 'Dataset/Augmented_dataset/36/36_random_crop_1.png', 1), ('Dataset/Augmented_dataset/7/7_scale_0.png', 'Dataset/Augmented_dataset/52/52_original.png', 0), ('Dataset/Augmented_dataset/40/40_scale_0.png', 'Dataset/Augmented_dataset/40/40_translate_1.png', 1), ('Dataset/Augmented_dataset/6/6_rotate_0.png', 'Dataset/Augmented_dataset/6/6_random_crop_1.png', 1), ('Dataset/Augmented_dataset/52/52_random_crop_1.png', 'Dataset/Augmented_dataset/40/40_random_crop_1.png', 0), ('Dataset/Augmented_dataset/7/7_rotate_0.png', 'Dataset/Augmented_dataset/148/148_scale_1.png', 0), ('Dataset/Augmented_dataset/1/1_translate_0.png', 'Dataset/Augmented_dataset/148/148_rotate_0.png', 0), ('Dataset/Augmented_dataset/7/7_random_crop_0.png', 'Dataset/Augmented_dataset/40/40_translate_1.png', 0), ('Dataset/Augmented_dataset/36/36_translate_1.png', 'Dataset/Augmented_dataset/148/148_scale_1.png', 0), ('Dataset/Augmented_dataset/7/7_rotate_1.png', 'Dataset/Augmented_dataset/7/7_random_crop_1.png', 1), ('Dataset/Augmented_dataset/16/16_random_crop_1.png', 'Dataset/Augmented_dataset/36/36_random_crop_1.png', 0), ('Dataset/Augmented_dataset/16/16_rotate_1.png', 'Dataset/Augmented_dataset/6/6_scale_0.png', 0), ('Dataset/Augmented_dataset/36/36_translate_0.png', 'Dataset/Augmented_dataset/148/148_translate_1.png', 0), ('Dataset/Augmented_dataset/61/61_translate_1.png', 'Dataset/Augmented_dataset/40/40_random_crop_1.png', 0), ('Dataset/Augmented_dataset/61/61_scale_1.png', 'Dataset/Augmented_dataset/7/7_rotate_1.png', 0), ('Dataset/Augmented_dataset/6/6_scale_0.png', 'Dataset/Augmented_dataset/1/1_original.png', 0), ('Dataset/Augmented_dataset/148/148_rotate_1.png', 'Dataset/Augmented_dataset/148/148_rotate_0.png', 1), ('Dataset/Augmented_dataset/52/52_scale_0.png', 'Dataset/Augmented_dataset/148/148_random_crop_0.png', 0), ('Dataset/Augmented_dataset/7/7_translate_1.png', 'Dataset/Augmented_dataset/7/7_rotate_1.png', 1), ('Dataset/Augmented_dataset/1/1_rotate_1.png', 'Dataset/Augmented_dataset/148/148_random_crop_1.png', 0), ('Dataset/Augmented_dataset/7/7_rotate_1.png', 'Dataset/Augmented_dataset/6/6_random_crop_1.png', 0), ('Dataset/Augmented_dataset/7/7_translate_0.png', 'Dataset/Augmented_dataset/7/7_original.png', 1), ('Dataset/Augmented_dataset/7/7_scale_1.png', 'Dataset/Augmented_dataset/7/7_original.png', 1), ('Dataset/Augmented_dataset/148/148_random_crop_0.png', 'Dataset/Augmented_dataset/148/148_rotate_1.png', 1), ('Dataset/Augmented_dataset/6/6_random_crop_1.png', 'Dataset/Augmented_dataset/1/1_translate_1.png', 0), ('Dataset/Augmented_dataset/148/148_translate_1.png', 'Dataset/Augmented_dataset/148/148_random_crop_0.png', 1), ('Dataset/Augmented_dataset/61/61_random_crop_0.png', 'Dataset/Augmented_dataset/6/6_rotate_1.png', 0), ('Dataset/Augmented_dataset/7/7_translate_1.png', 'Dataset/Augmented_dataset/7/7_original.png', 1), ('Dataset/Augmented_dataset/7/7_translate_0.png', 'Dataset/Augmented_dataset/52/52_translate_1.png', 0), ('Dataset/Augmented_dataset/1/1_translate_0.png', 'Dataset/Augmented_dataset/1/1_random_crop_1.png', 1), ('Dataset/Augmented_dataset/148/148_rotate_1.png', 'Dataset/Augmented_dataset/148/148_original.png', 1), ('Dataset/Augmented_dataset/52/52_rotate_1.png', 'Dataset/Augmented_dataset/52/52_random_crop_0.png', 1), ('Dataset/Augmented_dataset/61/61_random_crop_0.png', 'Dataset/Augmented_dataset/52/52_random_crop_1.png', 0), ('Dataset/Augmented_dataset/52/52_translate_1.png', 'Dataset/Augmented_dataset/148/148_random_crop_0.png', 0), ('Dataset/Augmented_dataset/61/61_original.png', 'Dataset/Augmented_dataset/16/16_translate_1.png', 0), ('Dataset/Augmented_dataset/148/148_scale_0.png', 'Dataset/Augmented_dataset/148/148_random_crop_0.png', 1), ('Dataset/Augmented_dataset/40/40_scale_0.png', 'Dataset/Augmented_dataset/40/40_rotate_1.png', 1), ('Dataset/Augmented_dataset/16/16_random_crop_0.png', 'Dataset/Augmented_dataset/52/52_scale_1.png', 0), ('Dataset/Augmented_dataset/148/148_rotate_0.png', 'Dataset/Augmented_dataset/148/148_original.png', 1), ('Dataset/Augmented_dataset/61/61_rotate_0.png', 'Dataset/Augmented_dataset/61/61_random_crop_1.png', 1), ('Dataset/Augmented_dataset/7/7_scale_0.png', 'Dataset/Augmented_dataset/36/36_translate_1.png', 0), ('Dataset/Augmented_dataset/1/1_rotate_0.png', 'Dataset/Augmented_dataset/1/1_scale_1.png', 1), ('Dataset/Augmented_dataset/148/148_translate_0.png', 'Dataset/Augmented_dataset/148/148_random_crop_1.png', 1), ('Dataset/Augmented_dataset/148/148_translate_1.png', 'Dataset/Augmented_dataset/148/148_rotate_1.png', 1), ('Dataset/Augmented_dataset/1/1_random_crop_0.png', 'Dataset/Augmented_dataset/1/1_scale_1.png', 1), ('Dataset/Augmented_dataset/1/1_translate_0.png', 'Dataset/Augmented_dataset/1/1_random_crop_0.png', 1), ('Dataset/Augmented_dataset/16/16_original.png', 'Dataset/Augmented_dataset/148/148_random_crop_0.png', 0), ('Dataset/Augmented_dataset/61/61_translate_0.png', 'Dataset/Augmented_dataset/36/36_translate_0.png', 0), ('Dataset/Augmented_dataset/7/7_rotate_0.png', 'Dataset/Augmented_dataset/7/7_random_crop_0.png', 1), ('Dataset/Augmented_dataset/1/1_random_crop_1.png', 'Dataset/Augmented_dataset/52/52_translate_0.png', 0), ('Dataset/Augmented_dataset/40/40_scale_0.png', 'Dataset/Augmented_dataset/40/40_translate_0.png', 1), ('Dataset/Augmented_dataset/6/6_original.png', 'Dataset/Augmented_dataset/1/1_original.png', 0), ('Dataset/Augmented_dataset/52/52_scale_0.png', 'Dataset/Augmented_dataset/148/148_rotate_1.png', 0), ('Dataset/Augmented_dataset/36/36_random_crop_0.png', 'Dataset/Augmented_dataset/148/148_original.png', 0), ('Dataset/Augmented_dataset/40/40_random_crop_1.png', 'Dataset/Augmented_dataset/40/40_rotate_0.png', 1), ('Dataset/Augmented_dataset/16/16_translate_1.png', 'Dataset/Augmented_dataset/16/16_original.png', 1), ('Dataset/Augmented_dataset/52/52_original.png', 'Dataset/Augmented_dataset/52/52_random_crop_0.png', 1), ('Dataset/Augmented_dataset/6/6_original.png', 'Dataset/Augmented_dataset/36/36_rotate_1.png', 0), ('Dataset/Augmented_dataset/16/16_random_crop_0.png', 'Dataset/Augmented_dataset/1/1_scale_1.png', 0), ('Dataset/Augmented_dataset/148/148_translate_1.png', 'Dataset/Augmented_dataset/40/40_scale_1.png', 0), ('Dataset/Augmented_dataset/6/6_translate_1.png', 'Dataset/Augmented_dataset/36/36_rotate_1.png', 0), ('Dataset/Augmented_dataset/16/16_translate_0.png', 'Dataset/Augmented_dataset/148/148_translate_0.png', 0), ('Dataset/Augmented_dataset/148/148_translate_1.png', 'Dataset/Augmented_dataset/148/148_random_crop_1.png', 1), ('Dataset/Augmented_dataset/61/61_scale_1.png', 'Dataset/Augmented_dataset/40/40_rotate_1.png', 0), ('Dataset/Augmented_dataset/36/36_random_crop_1.png', 'Dataset/Augmented_dataset/36/36_random_crop_0.png', 1), ('Dataset/Augmented_dataset/61/61_random_crop_0.png', 'Dataset/Augmented_dataset/61/61_random_crop_1.png', 1), ('Dataset/Augmented_dataset/36/36_scale_0.png', 'Dataset/Augmented_dataset/148/148_translate_1.png', 0), ('Dataset/Augmented_dataset/61/61_rotate_0.png', 'Dataset/Augmented_dataset/40/40_random_crop_0.png', 0), ('Dataset/Augmented_dataset/36/36_scale_0.png', 'Dataset/Augmented_dataset/36/36_scale_1.png', 1), ('Dataset/Augmented_dataset/7/7_random_crop_0.png', 'Dataset/Augmented_dataset/148/148_random_crop_0.png', 0), ('Dataset/Augmented_dataset/148/148_random_crop_0.png', 'Dataset/Augmented_dataset/148/148_rotate_0.png', 1), ('Dataset/Augmented_dataset/148/148_random_crop_0.png', 'Dataset/Augmented_dataset/148/148_original.png', 1), ('Dataset/Augmented_dataset/52/52_rotate_0.png', 'Dataset/Augmented_dataset/52/52_original.png', 1), ('Dataset/Augmented_dataset/16/16_translate_0.png', 'Dataset/Augmented_dataset/16/16_scale_0.png', 1), ('Dataset/Augmented_dataset/61/61_rotate_0.png', 'Dataset/Augmented_dataset/52/52_translate_1.png', 0), ('Dataset/Augmented_dataset/7/7_rotate_1.png', 'Dataset/Augmented_dataset/7/7_rotate_0.png', 1), ('Dataset/Augmented_dataset/7/7_translate_0.png', 'Dataset/Augmented_dataset/52/52_original.png', 0), ('Dataset/Augmented_dataset/6/6_scale_1.png', 'Dataset/Augmented_dataset/36/36_rotate_1.png', 0), ('Dataset/Augmented_dataset/148/148_random_crop_1.png', 'Dataset/Augmented_dataset/148/148_rotate_1.png', 1), ('Dataset/Augmented_dataset/40/40_scale_1.png', 'Dataset/Augmented_dataset/40/40_rotate_1.png', 1), ('Dataset/Augmented_dataset/36/36_translate_1.png', 'Dataset/Augmented_dataset/36/36_random_crop_1.png', 1), ('Dataset/Augmented_dataset/16/16_rotate_1.png', 'Dataset/Augmented_dataset/36/36_original.png', 0), ('Dataset/Augmented_dataset/1/1_translate_0.png', 'Dataset/Augmented_dataset/1/1_rotate_0.png', 1), ('Dataset/Augmented_dataset/1/1_rotate_1.png', 'Dataset/Augmented_dataset/148/148_translate_1.png', 0), ('Dataset/Augmented_dataset/52/52_translate_0.png', 'Dataset/Augmented_dataset/148/148_rotate_1.png', 0), ('Dataset/Augmented_dataset/61/61_scale_1.png', 'Dataset/Augmented_dataset/61/61_rotate_1.png', 1), ('Dataset/Augmented_dataset/7/7_scale_1.png', 'Dataset/Augmented_dataset/40/40_rotate_0.png', 0), ('Dataset/Augmented_dataset/6/6_rotate_0.png', 'Dataset/Augmented_dataset/6/6_rotate_1.png', 1), ('Dataset/Augmented_dataset/6/6_random_crop_0.png', 'Dataset/Augmented_dataset/40/40_rotate_0.png', 0), ('Dataset/Augmented_dataset/7/7_random_crop_1.png', 'Dataset/Augmented_dataset/36/36_scale_1.png', 0), ('Dataset/Augmented_dataset/7/7_translate_0.png', 'Dataset/Augmented_dataset/1/1_translate_0.png', 0), ('Dataset/Augmented_dataset/6/6_scale_1.png', 'Dataset/Augmented_dataset/1/1_original.png', 0), ('Dataset/Augmented_dataset/52/52_rotate_0.png', 'Dataset/Augmented_dataset/52/52_random_crop_1.png', 1), ('Dataset/Augmented_dataset/1/1_random_crop_0.png', 'Dataset/Augmented_dataset/148/148_translate_1.png', 0), ('Dataset/Augmented_dataset/7/7_scale_0.png', 'Dataset/Augmented_dataset/16/16_original.png', 0), ('Dataset/Augmented_dataset/61/61_original.png', 'Dataset/Augmented_dataset/1/1_rotate_0.png', 0), ('Dataset/Augmented_dataset/61/61_scale_0.png', 'Dataset/Augmented_dataset/7/7_random_crop_0.png', 0), ('Dataset/Augmented_dataset/52/52_scale_0.png', 'Dataset/Augmented_dataset/52/52_random_crop_1.png', 1), ('Dataset/Augmented_dataset/61/61_rotate_1.png', 'Dataset/Augmented_dataset/6/6_random_crop_1.png', 0), ('Dataset/Augmented_dataset/6/6_translate_0.png', 'Dataset/Augmented_dataset/6/6_translate_1.png', 1), ('Dataset/Augmented_dataset/7/7_random_crop_1.png', 'Dataset/Augmented_dataset/6/6_scale_0.png', 0), ('Dataset/Augmented_dataset/6/6_scale_0.png', 'Dataset/Augmented_dataset/1/1_rotate_1.png', 0), ('Dataset/Augmented_dataset/148/148_scale_0.png', 'Dataset/Augmented_dataset/148/148_random_crop_1.png', 1), ('Dataset/Augmented_dataset/61/61_random_crop_1.png', 'Dataset/Augmented_dataset/61/61_translate_1.png', 1), ('Dataset/Augmented_dataset/16/16_random_crop_0.png', 'Dataset/Augmented_dataset/40/40_scale_1.png', 0), ('Dataset/Augmented_dataset/36/36_random_crop_1.png', 'Dataset/Augmented_dataset/148/148_scale_1.png', 0), ('Dataset/Augmented_dataset/1/1_rotate_1.png', 'Dataset/Augmented_dataset/1/1_random_crop_0.png', 1), ('Dataset/Augmented_dataset/36/36_scale_1.png', 'Dataset/Augmented_dataset/36/36_random_crop_1.png', 1), ('Dataset/Augmented_dataset/6/6_original.png', 'Dataset/Augmented_dataset/40/40_rotate_1.png', 0), ('Dataset/Augmented_dataset/6/6_scale_1.png', 'Dataset/Augmented_dataset/6/6_translate_0.png', 1), ('Dataset/Augmented_dataset/61/61_rotate_1.png', 'Dataset/Augmented_dataset/148/148_original.png', 0), ('Dataset/Augmented_dataset/1/1_random_crop_1.png', 'Dataset/Augmented_dataset/1/1_scale_1.png', 1), ('Dataset/Augmented_dataset/6/6_original.png', 'Dataset/Augmented_dataset/1/1_scale_1.png', 0), ('Dataset/Augmented_dataset/61/61_random_crop_1.png', 'Dataset/Augmented_dataset/61/61_translate_0.png', 1), ('Dataset/Augmented_dataset/6/6_random_crop_0.png', 'Dataset/Augmented_dataset/36/36_scale_0.png', 0), ('Dataset/Augmented_dataset/6/6_translate_1.png', 'Dataset/Augmented_dataset/1/1_rotate_1.png', 0), ('Dataset/Augmented_dataset/16/16_original.png', 'Dataset/Augmented_dataset/16/16_random_crop_1.png', 1), ('Dataset/Augmented_dataset/52/52_rotate_0.png', 'Dataset/Augmented_dataset/52/52_translate_0.png', 1), ('Dataset/Augmented_dataset/7/7_scale_0.png', 'Dataset/Augmented_dataset/6/6_rotate_0.png', 0), ('Dataset/Augmented_dataset/148/148_rotate_1.png', 'Dataset/Augmented_dataset/40/40_rotate_0.png', 0), ('Dataset/Augmented_dataset/7/7_rotate_0.png', 'Dataset/Augmented_dataset/36/36_scale_1.png', 0), ('Dataset/Augmented_dataset/52/52_rotate_1.png', 'Dataset/Augmented_dataset/52/52_scale_1.png', 1), ('Dataset/Augmented_dataset/61/61_scale_1.png', 'Dataset/Augmented_dataset/52/52_rotate_1.png', 0), ('Dataset/Augmented_dataset/36/36_rotate_0.png', 'Dataset/Augmented_dataset/36/36_random_crop_1.png', 1), ('Dataset/Augmented_dataset/16/16_random_crop_1.png', 'Dataset/Augmented_dataset/52/52_original.png', 0), ('Dataset/Augmented_dataset/16/16_rotate_1.png', 'Dataset/Augmented_dataset/16/16_scale_1.png', 1), ('Dataset/Augmented_dataset/16/16_random_crop_1.png', 'Dataset/Augmented_dataset/40/40_translate_1.png', 0), ('Dataset/Augmented_dataset/36/36_scale_1.png', 'Dataset/Augmented_dataset/36/36_translate_0.png', 1), ('Dataset/Augmented_dataset/7/7_translate_1.png', 'Dataset/Augmented_dataset/1/1_random_crop_1.png', 0), ('Dataset/Augmented_dataset/16/16_random_crop_1.png', 'Dataset/Augmented_dataset/52/52_scale_0.png', 0), ('Dataset/Augmented_dataset/7/7_translate_1.png', 'Dataset/Augmented_dataset/6/6_rotate_1.png', 0), ('Dataset/Augmented_dataset/6/6_translate_1.png', 'Dataset/Augmented_dataset/6/6_rotate_0.png', 1), ('Dataset/Augmented_dataset/40/40_scale_0.png', 'Dataset/Augmented_dataset/40/40_rotate_0.png', 1), ('Dataset/Augmented_dataset/40/40_scale_0.png', 'Dataset/Augmented_dataset/40/40_original.png', 1), ('Dataset/Augmented_dataset/61/61_original.png', 'Dataset/Augmented_dataset/61/61_random_crop_0.png', 1), ('Dataset/Augmented_dataset/7/7_translate_1.png', 'Dataset/Augmented_dataset/7/7_scale_1.png', 1), ('Dataset/Augmented_dataset/61/61_original.png', 'Dataset/Augmented_dataset/52/52_rotate_0.png', 0), ('Dataset/Augmented_dataset/16/16_rotate_1.png', 'Dataset/Augmented_dataset/16/16_rotate_0.png', 1), ('Dataset/Augmented_dataset/7/7_random_crop_0.png', 'Dataset/Augmented_dataset/40/40_original.png', 0), ('Dataset/Augmented_dataset/61/61_scale_1.png', 'Dataset/Augmented_dataset/16/16_random_crop_0.png', 0), ('Dataset/Augmented_dataset/61/61_rotate_1.png', 'Dataset/Augmented_dataset/61/61_translate_0.png', 1), ('Dataset/Augmented_dataset/16/16_original.png', 'Dataset/Augmented_dataset/1/1_rotate_1.png', 0), ('Dataset/Augmented_dataset/61/61_translate_0.png', 'Dataset/Augmented_dataset/148/148_scale_1.png', 0), ('Dataset/Augmented_dataset/6/6_rotate_1.png', 'Dataset/Augmented_dataset/40/40_rotate_1.png', 0), ('Dataset/Augmented_dataset/7/7_random_crop_1.png', 'Dataset/Augmented_dataset/1/1_random_crop_1.png', 0), ('Dataset/Augmented_dataset/7/7_scale_0.png', 'Dataset/Augmented_dataset/7/7_rotate_1.png', 1), ('Dataset/Augmented_dataset/61/61_scale_0.png', 'Dataset/Augmented_dataset/61/61_rotate_1.png', 1), ('Dataset/Augmented_dataset/16/16_translate_1.png', 'Dataset/Augmented_dataset/16/16_random_crop_1.png', 1), ('Dataset/Augmented_dataset/16/16_rotate_0.png', 'Dataset/Augmented_dataset/6/6_random_crop_1.png', 0), ('Dataset/Augmented_dataset/61/61_scale_0.png', 'Dataset/Augmented_dataset/61/61_translate_1.png', 1), ('Dataset/Augmented_dataset/148/148_translate_1.png', 'Dataset/Augmented_dataset/148/148_scale_0.png', 1), ('Dataset/Augmented_dataset/1/1_original.png', 'Dataset/Augmented_dataset/1/1_random_crop_0.png', 1), ('Dataset/Augmented_dataset/6/6_scale_0.png', 'Dataset/Augmented_dataset/6/6_original.png', 1), ('Dataset/Augmented_dataset/6/6_translate_0.png', 'Dataset/Augmented_dataset/6/6_random_crop_1.png', 1), ('Dataset/Augmented_dataset/7/7_rotate_0.png', 'Dataset/Augmented_dataset/40/40_rotate_0.png', 0), ('Dataset/Augmented_dataset/52/52_translate_1.png', 'Dataset/Augmented_dataset/52/52_random_crop_1.png', 1), ('Dataset/Augmented_dataset/6/6_translate_1.png', 'Dataset/Augmented_dataset/6/6_rotate_1.png', 1), ('Dataset/Augmented_dataset/148/148_scale_1.png', 'Dataset/Augmented_dataset/148/148_original.png', 1), ('Dataset/Augmented_dataset/6/6_random_crop_0.png', 'Dataset/Augmented_dataset/6/6_random_crop_1.png', 1), ('Dataset/Augmented_dataset/61/61_scale_1.png', 'Dataset/Augmented_dataset/61/61_random_crop_0.png', 1), ('Dataset/Augmented_dataset/36/36_scale_0.png', 'Dataset/Augmented_dataset/36/36_rotate_0.png', 1), ('Dataset/Augmented_dataset/148/148_random_crop_1.png', 'Dataset/Augmented_dataset/148/148_original.png', 1), ('Dataset/Augmented_dataset/7/7_scale_1.png', 'Dataset/Augmented_dataset/40/40_translate_0.png', 0), ('Dataset/Augmented_dataset/52/52_translate_1.png', 'Dataset/Augmented_dataset/148/148_rotate_1.png', 0), ('Dataset/Augmented_dataset/61/61_random_crop_0.png', 'Dataset/Augmented_dataset/40/40_random_crop_0.png', 0), ('Dataset/Augmented_dataset/6/6_translate_0.png', 'Dataset/Augmented_dataset/1/1_rotate_1.png', 0), ('Dataset/Augmented_dataset/1/1_rotate_1.png', 'Dataset/Augmented_dataset/40/40_random_crop_0.png', 0), ('Dataset/Augmented_dataset/16/16_original.png', 'Dataset/Augmented_dataset/16/16_scale_1.png', 1), ('Dataset/Augmented_dataset/40/40_random_crop_0.png', 'Dataset/Augmented_dataset/40/40_random_crop_1.png', 1), ('Dataset/Augmented_dataset/61/61_random_crop_1.png', 'Dataset/Augmented_dataset/36/36_original.png', 0), ('Dataset/Augmented_dataset/148/148_translate_1.png', 'Dataset/Augmented_dataset/148/148_rotate_0.png', 1), ('Dataset/Augmented_dataset/16/16_translate_1.png', 'Dataset/Augmented_dataset/52/52_translate_1.png', 0), ('Dataset/Augmented_dataset/61/61_rotate_1.png', 'Dataset/Augmented_dataset/40/40_rotate_1.png', 0), ('Dataset/Augmented_dataset/1/1_translate_1.png', 'Dataset/Augmented_dataset/1/1_scale_0.png', 1), ('Dataset/Augmented_dataset/7/7_rotate_1.png', 'Dataset/Augmented_dataset/7/7_random_crop_0.png', 1), ('Dataset/Augmented_dataset/61/61_translate_0.png', 'Dataset/Augmented_dataset/148/148_translate_1.png', 0), ('Dataset/Augmented_dataset/7/7_original.png', 'Dataset/Augmented_dataset/7/7_random_crop_1.png', 1), ('Dataset/Augmented_dataset/148/148_scale_1.png', 'Dataset/Augmented_dataset/40/40_scale_0.png', 0), ('Dataset/Augmented_dataset/61/61_random_crop_0.png', 'Dataset/Augmented_dataset/36/36_translate_0.png', 0), ('Dataset/Augmented_dataset/36/36_scale_0.png', 'Dataset/Augmented_dataset/36/36_original.png', 1), ('Dataset/Augmented_dataset/148/148_translate_0.png', 'Dataset/Augmented_dataset/148/148_scale_1.png', 1), ('Dataset/Augmented_dataset/6/6_translate_1.png', 'Dataset/Augmented_dataset/6/6_original.png', 1), ('Dataset/Augmented_dataset/52/52_rotate_0.png', 'Dataset/Augmented_dataset/40/40_rotate_1.png', 0), ('Dataset/Augmented_dataset/36/36_original.png', 'Dataset/Augmented_dataset/36/36_translate_1.png', 1), ('Dataset/Augmented_dataset/16/16_scale_0.png', 'Dataset/Augmented_dataset/16/16_scale_1.png', 1), ('Dataset/Augmented_dataset/6/6_scale_0.png', 'Dataset/Augmented_dataset/6/6_random_crop_1.png', 1), ('Dataset/Augmented_dataset/1/1_translate_1.png', 'Dataset/Augmented_dataset/148/148_rotate_0.png', 0), ('Dataset/Augmented_dataset/1/1_scale_1.png', 'Dataset/Augmented_dataset/40/40_original.png', 0), ('Dataset/Augmented_dataset/7/7_translate_1.png', 'Dataset/Augmented_dataset/40/40_translate_1.png', 0), ('Dataset/Augmented_dataset/6/6_rotate_0.png', 'Dataset/Augmented_dataset/6/6_random_crop_0.png', 1), ('Dataset/Augmented_dataset/16/16_scale_1.png', 'Dataset/Augmented_dataset/52/52_original.png', 0), ('Dataset/Augmented_dataset/7/7_translate_0.png', 'Dataset/Augmented_dataset/148/148_random_crop_0.png', 0), ('Dataset/Augmented_dataset/61/61_scale_0.png', 'Dataset/Augmented_dataset/61/61_scale_1.png', 1), ('Dataset/Augmented_dataset/16/16_translate_1.png', 'Dataset/Augmented_dataset/1/1_random_crop_0.png', 0), ('Dataset/Augmented_dataset/1/1_translate_0.png', 'Dataset/Augmented_dataset/1/1_original.png', 1), ('Dataset/Augmented_dataset/36/36_translate_1.png', 'Dataset/Augmented_dataset/40/40_random_crop_0.png', 0), ('Dataset/Augmented_dataset/6/6_scale_0.png', 'Dataset/Augmented_dataset/36/36_scale_1.png', 0), ('Dataset/Augmented_dataset/1/1_random_crop_0.png', 'Dataset/Augmented_dataset/1/1_random_crop_1.png', 1), ('Dataset/Augmented_dataset/6/6_rotate_1.png', 'Dataset/Augmented_dataset/40/40_random_crop_0.png', 0), ('Dataset/Augmented_dataset/7/7_original.png', 'Dataset/Augmented_dataset/7/7_rotate_0.png', 1), ('Dataset/Augmented_dataset/16/16_translate_1.png', 'Dataset/Augmented_dataset/16/16_scale_0.png', 1), ('Dataset/Augmented_dataset/7/7_translate_1.png', 'Dataset/Augmented_dataset/1/1_scale_0.png', 0), ('Dataset/Augmented_dataset/1/1_rotate_0.png', 'Dataset/Augmented_dataset/1/1_rotate_1.png', 1), ('Dataset/Augmented_dataset/148/148_translate_1.png', 'Dataset/Augmented_dataset/148/148_scale_1.png', 1), ('Dataset/Augmented_dataset/6/6_translate_1.png', 'Dataset/Augmented_dataset/6/6_random_crop_0.png', 1), ('Dataset/Augmented_dataset/7/7_original.png', 'Dataset/Augmented_dataset/6/6_rotate_0.png', 0), ('Dataset/Augmented_dataset/36/36_random_crop_1.png', 'Dataset/Augmented_dataset/148/148_translate_1.png', 0), ('Dataset/Augmented_dataset/16/16_random_crop_0.png', 'Dataset/Augmented_dataset/16/16_scale_1.png', 1), ('Dataset/Augmented_dataset/16/16_random_crop_1.png', 'Dataset/Augmented_dataset/16/16_scale_1.png', 1), ('Dataset/Augmented_dataset/52/52_random_crop_0.png', 'Dataset/Augmented_dataset/40/40_original.png', 0), ('Dataset/Augmented_dataset/7/7_translate_0.png', 'Dataset/Augmented_dataset/16/16_random_crop_0.png', 0), ('Dataset/Augmented_dataset/40/40_scale_1.png', 'Dataset/Augmented_dataset/40/40_translate_1.png', 1), ('Dataset/Augmented_dataset/16/16_translate_1.png', 'Dataset/Augmented_dataset/16/16_rotate_1.png', 1), ('Dataset/Augmented_dataset/6/6_original.png', 'Dataset/Augmented_dataset/6/6_rotate_0.png', 1), ('Dataset/Augmented_dataset/7/7_translate_0.png', 'Dataset/Augmented_dataset/7/7_rotate_1.png', 1), ('Dataset/Augmented_dataset/1/1_translate_1.png', 'Dataset/Augmented_dataset/36/36_scale_0.png', 0), ('Dataset/Augmented_dataset/1/1_random_crop_1.png', 'Dataset/Augmented_dataset/52/52_random_crop_0.png', 0), ('Dataset/Augmented_dataset/6/6_original.png', 'Dataset/Augmented_dataset/52/52_random_crop_1.png', 0), ('Dataset/Augmented_dataset/16/16_rotate_0.png', 'Dataset/Augmented_dataset/1/1_random_crop_0.png', 0), ('Dataset/Augmented_dataset/40/40_translate_0.png', 'Dataset/Augmented_dataset/40/40_rotate_1.png', 1), ('Dataset/Augmented_dataset/40/40_translate_1.png', 'Dataset/Augmented_dataset/40/40_rotate_1.png', 1), ('Dataset/Augmented_dataset/6/6_original.png', 'Dataset/Augmented_dataset/52/52_random_crop_0.png', 0), ('Dataset/Augmented_dataset/1/1_rotate_1.png', 'Dataset/Augmented_dataset/1/1_scale_0.png', 1), ('Dataset/Augmented_dataset/36/36_random_crop_1.png', 'Dataset/Augmented_dataset/40/40_rotate_0.png', 0), ('Dataset/Augmented_dataset/6/6_scale_0.png', 'Dataset/Augmented_dataset/6/6_rotate_0.png', 1), ('Dataset/Augmented_dataset/61/61_scale_0.png', 'Dataset/Augmented_dataset/61/61_random_crop_1.png', 1), ('Dataset/Augmented_dataset/7/7_translate_0.png', 'Dataset/Augmented_dataset/7/7_translate_1.png', 1), ('Dataset/Augmented_dataset/52/52_scale_1.png', 'Dataset/Augmented_dataset/40/40_random_crop_0.png', 0), ('Dataset/Augmented_dataset/7/7_scale_0.png', 'Dataset/Augmented_dataset/7/7_random_crop_1.png', 1), ('Dataset/Augmented_dataset/61/61_random_crop_1.png', 'Dataset/Augmented_dataset/1/1_random_crop_0.png', 0), ('Dataset/Augmented_dataset/7/7_rotate_1.png', 'Dataset/Augmented_dataset/7/7_original.png', 1), ('Dataset/Augmented_dataset/36/36_rotate_1.png', 'Dataset/Augmented_dataset/36/36_translate_1.png', 1), ('Dataset/Augmented_dataset/16/16_translate_1.png', 'Dataset/Augmented_dataset/16/16_random_crop_0.png', 1), ('Dataset/Augmented_dataset/61/61_random_crop_0.png', 'Dataset/Augmented_dataset/1/1_random_crop_0.png', 0), ('Dataset/Augmented_dataset/16/16_random_crop_1.png', 'Dataset/Augmented_dataset/36/36_translate_1.png', 0), ('Dataset/Augmented_dataset/7/7_scale_0.png', 'Dataset/Augmented_dataset/52/52_random_crop_1.png', 0), ('Dataset/Augmented_dataset/1/1_original.png', 'Dataset/Augmented_dataset/148/148_random_crop_0.png', 0), ('Dataset/Augmented_dataset/7/7_translate_0.png', 'Dataset/Augmented_dataset/7/7_scale_1.png', 1), ('Dataset/Augmented_dataset/16/16_scale_0.png', 'Dataset/Augmented_dataset/36/36_rotate_1.png', 0), ('Dataset/Augmented_dataset/1/1_translate_0.png', 'Dataset/Augmented_dataset/40/40_scale_1.png', 0), ('Dataset/Augmented_dataset/61/61_random_crop_1.png', 'Dataset/Augmented_dataset/148/148_rotate_1.png', 0), ('Dataset/Augmented_dataset/61/61_rotate_1.png', 'Dataset/Augmented_dataset/16/16_rotate_1.png', 0), ('Dataset/Augmented_dataset/16/16_translate_0.png', 'Dataset/Augmented_dataset/40/40_scale_1.png', 0), ('Dataset/Augmented_dataset/16/16_rotate_1.png', 'Dataset/Augmented_dataset/40/40_translate_1.png', 0), ('Dataset/Augmented_dataset/61/61_original.png', 'Dataset/Augmented_dataset/61/61_translate_1.png', 1), ('Dataset/Augmented_dataset/40/40_scale_0.png', 'Dataset/Augmented_dataset/40/40_random_crop_1.png', 1), ('Dataset/Augmented_dataset/52/52_original.png', 'Dataset/Augmented_dataset/52/52_scale_1.png', 1), ('Dataset/Augmented_dataset/148/148_scale_1.png', 'Dataset/Augmented_dataset/148/148_scale_0.png', 1), ('Dataset/Augmented_dataset/40/40_scale_1.png', 'Dataset/Augmented_dataset/40/40_rotate_0.png', 1), ('Dataset/Augmented_dataset/16/16_translate_0.png', 'Dataset/Augmented_dataset/6/6_scale_1.png', 0), ('Dataset/Augmented_dataset/52/52_random_crop_0.png', 'Dataset/Augmented_dataset/40/40_random_crop_0.png', 0), ('Dataset/Augmented_dataset/16/16_random_crop_0.png', 'Dataset/Augmented_dataset/36/36_scale_0.png', 0), ('Dataset/Augmented_dataset/40/40_translate_1.png', 'Dataset/Augmented_dataset/40/40_random_crop_1.png', 1), ('Dataset/Augmented_dataset/40/40_scale_0.png', 'Dataset/Augmented_dataset/40/40_random_crop_0.png', 1), ('Dataset/Augmented_dataset/52/52_rotate_0.png', 'Dataset/Augmented_dataset/52/52_scale_1.png', 1), ('Dataset/Augmented_dataset/36/36_scale_1.png', 'Dataset/Augmented_dataset/36/36_rotate_1.png', 1), ('Dataset/Augmented_dataset/61/61_rotate_0.png', 'Dataset/Augmented_dataset/6/6_scale_1.png', 0), ('Dataset/Augmented_dataset/1/1_random_crop_1.png', 'Dataset/Augmented_dataset/36/36_translate_0.png', 0), ('Dataset/Augmented_dataset/6/6_translate_0.png', 'Dataset/Augmented_dataset/40/40_rotate_1.png', 0), ('Dataset/Augmented_dataset/61/61_scale_0.png', 'Dataset/Augmented_dataset/40/40_translate_1.png', 0), ('Dataset/Augmented_dataset/36/36_rotate_1.png', 'Dataset/Augmented_dataset/52/52_random_crop_1.png', 0), ('Dataset/Augmented_dataset/7/7_random_crop_0.png', 'Dataset/Augmented_dataset/148/148_translate_0.png', 0), ('Dataset/Augmented_dataset/6/6_translate_0.png', 'Dataset/Augmented_dataset/6/6_rotate_0.png', 1), ('Dataset/Augmented_dataset/61/61_scale_1.png', 'Dataset/Augmented_dataset/61/61_random_crop_1.png', 1), ('Dataset/Augmented_dataset/52/52_translate_1.png', 'Dataset/Augmented_dataset/52/52_scale_1.png', 1), ('Dataset/Augmented_dataset/7/7_rotate_0.png', 'Dataset/Augmented_dataset/16/16_random_crop_0.png', 0), ('Dataset/Augmented_dataset/6/6_translate_0.png', 'Dataset/Augmented_dataset/6/6_original.png', 1), ('Dataset/Augmented_dataset/6/6_translate_0.png', 'Dataset/Augmented_dataset/40/40_rotate_0.png', 0), ('Dataset/Augmented_dataset/16/16_scale_0.png', 'Dataset/Augmented_dataset/52/52_random_crop_1.png', 0), ('Dataset/Augmented_dataset/6/6_scale_0.png', 'Dataset/Augmented_dataset/6/6_translate_1.png', 1), ('Dataset/Augmented_dataset/148/148_random_crop_0.png', 'Dataset/Augmented_dataset/40/40_translate_1.png', 0), ('Dataset/Augmented_dataset/6/6_rotate_0.png', 'Dataset/Augmented_dataset/52/52_original.png', 0), ('Dataset/Augmented_dataset/6/6_scale_1.png', 'Dataset/Augmented_dataset/36/36_translate_0.png', 0), ('Dataset/Augmented_dataset/6/6_scale_0.png', 'Dataset/Augmented_dataset/6/6_translate_0.png', 1), ('Dataset/Augmented_dataset/52/52_translate_0.png', 'Dataset/Augmented_dataset/52/52_scale_1.png', 1), ('Dataset/Augmented_dataset/36/36_random_crop_0.png', 'Dataset/Augmented_dataset/52/52_translate_0.png', 0), ('Dataset/Augmented_dataset/16/16_scale_0.png', 'Dataset/Augmented_dataset/52/52_translate_0.png', 0), ('Dataset/Augmented_dataset/7/7_scale_0.png', 'Dataset/Augmented_dataset/7/7_rotate_0.png', 1), ('Dataset/Augmented_dataset/7/7_rotate_0.png', 'Dataset/Augmented_dataset/6/6_random_crop_0.png', 0), ('Dataset/Augmented_dataset/40/40_rotate_0.png', 'Dataset/Augmented_dataset/40/40_original.png', 1), ('Dataset/Augmented_dataset/36/36_translate_1.png', 'Dataset/Augmented_dataset/36/36_random_crop_0.png', 1), ('Dataset/Augmented_dataset/6/6_rotate_0.png', 'Dataset/Augmented_dataset/1/1_translate_1.png', 0), ('Dataset/Augmented_dataset/6/6_original.png', 'Dataset/Augmented_dataset/6/6_random_crop_0.png', 1), ('Dataset/Augmented_dataset/61/61_rotate_1.png', 'Dataset/Augmented_dataset/7/7_rotate_0.png', 0), ('Dataset/Augmented_dataset/16/16_rotate_0.png', 'Dataset/Augmented_dataset/1/1_translate_1.png', 0), ('Dataset/Augmented_dataset/16/16_translate_0.png', 'Dataset/Augmented_dataset/40/40_rotate_0.png', 0), ('Dataset/Augmented_dataset/16/16_random_crop_1.png', 'Dataset/Augmented_dataset/148/148_random_crop_1.png', 0), ('Dataset/Augmented_dataset/6/6_random_crop_1.png', 'Dataset/Augmented_dataset/148/148_translate_0.png', 0), ('Dataset/Augmented_dataset/6/6_random_crop_1.png', 'Dataset/Augmented_dataset/40/40_random_crop_1.png', 0), ('Dataset/Augmented_dataset/7/7_random_crop_0.png', 'Dataset/Augmented_dataset/16/16_translate_1.png', 0), ('Dataset/Augmented_dataset/1/1_random_crop_0.png', 'Dataset/Augmented_dataset/1/1_scale_0.png', 1), ('Dataset/Augmented_dataset/6/6_random_crop_1.png', 'Dataset/Augmented_dataset/52/52_rotate_1.png', 0), ('Dataset/Augmented_dataset/16/16_translate_1.png', 'Dataset/Augmented_dataset/40/40_scale_1.png', 0), ('Dataset/Augmented_dataset/61/61_rotate_1.png', 'Dataset/Augmented_dataset/61/61_random_crop_1.png', 1), ('Dataset/Augmented_dataset/6/6_translate_0.png', 'Dataset/Augmented_dataset/52/52_scale_1.png', 0), ('Dataset/Augmented_dataset/36/36_random_crop_0.png', 'Dataset/Augmented_dataset/40/40_random_crop_1.png', 0), ('Dataset/Augmented_dataset/52/52_translate_1.png', 'Dataset/Augmented_dataset/52/52_random_crop_0.png', 1), ('Dataset/Augmented_dataset/16/16_original.png', 'Dataset/Augmented_dataset/36/36_random_crop_0.png', 0)]\n"
     ]
    }
   ],
   "source": [
    "print(combined_pairs)"
   ]
  },
  {
   "cell_type": "code",
   "execution_count": 7,
   "metadata": {},
   "outputs": [
    {
     "name": "stderr",
     "output_type": "stream",
     "text": [
      "2024-04-07 13:34:16.295184: I tensorflow/core/platform/cpu_feature_guard.cc:210] This TensorFlow binary is optimized to use available CPU instructions in performance-critical operations.\n",
      "To enable the following instructions: AVX2 FMA, in other operations, rebuild TensorFlow with the appropriate compiler flags.\n"
     ]
    }
   ],
   "source": [
    "import tensorflow as tf\n",
    "from tensorflow.keras.layers import Input, Conv2D, Lambda, Dense, Flatten, MaxPooling2D\n",
    "from tensorflow.keras.models import Model, Sequential\n",
    "from tensorflow.keras.optimizers import Adam\n",
    "from tensorflow.keras.layers import Layer\n",
    "from tensorflow.keras.models import load_model\n",
    "\n",
    "class AbsoluteDifferenceLayer(Layer):\n",
    "    def __init__(self, **kwargs):\n",
    "        super().__init__(**kwargs)\n",
    "\n",
    "    def call(self, inputs):\n",
    "        # Assumes inputs is a list of two tensors of the same shape.\n",
    "        return tf.abs(inputs[0] - inputs[1])\n",
    "\n",
    "    def get_config(self):\n",
    "        # This method is used for serialization.\n",
    "        base_config = super().get_config()\n",
    "        return base_config\n",
    "\n",
    "\n",
    "def build_base_network(input_shape):\n",
    "    base_network = Sequential([\n",
    "        Conv2D(64, (3, 3), activation='relu', input_shape=input_shape),\n",
    "        MaxPooling2D((2, 2)),\n",
    "        Conv2D(128, (3, 3), activation='relu'),\n",
    "        MaxPooling2D((2, 2)),\n",
    "        Conv2D(256, (3, 3), activation='relu'),\n",
    "        MaxPooling2D((2, 2)),\n",
    "        Flatten(),\n",
    "        Dense(128, activation='relu'),\n",
    "    ])\n",
    "    return base_network\n",
    "\n",
    "def build_siamese_model(input_shape):\n",
    "    input_a = Input(shape=input_shape)\n",
    "    input_b = Input(shape=input_shape)\n",
    "\n",
    "    base_network = build_base_network(input_shape)\n",
    "    processed_a = base_network(input_a)\n",
    "    processed_b = base_network(input_b)\n",
    "\n",
    "    # Use the custom layer instead of a Lambda layer\n",
    "    distance = AbsoluteDifferenceLayer()([processed_a, processed_b])\n",
    "\n",
    "    # Add a dense layer with a single neuron and a sigmoid activation to generate the similarity score\n",
    "    outputs = Dense(1, activation='sigmoid')(distance)\n",
    "\n",
    "    model = Model(inputs=[input_a, input_b], outputs=outputs)\n",
    "    return model\n"
   ]
  },
  {
   "cell_type": "code",
   "execution_count": 8,
   "metadata": {},
   "outputs": [],
   "source": [
    "import numpy as np\n",
    "import tensorflow as tf\n",
    "from tensorflow.keras.preprocessing import image as keras_image\n",
    "from sklearn.model_selection import train_test_split\n",
    "from tensorflow.keras.applications.mobilenet_v2 import preprocess_input\n",
    "\n",
    "def preprocess_image(image_path, target_size=(224, 224)):\n",
    "    img = keras_image.load_img(image_path, target_size=target_size)\n",
    "    img = keras_image.img_to_array(img)\n",
    "    img = np.expand_dims(img, axis=0)\n",
    "    img = preprocess_input(img)\n",
    "    return img[0]\n",
    "\n",
    "def load_and_process_pairs(pairs, target_size=(224, 224)):\n",
    "    # Splitting image paths and labels\n",
    "    image_paths_a, image_paths_b, labels = zip(*pairs)\n",
    "\n",
    "    # Preprocessing images\n",
    "    images_a = np.array([preprocess_image(path, target_size) for path in image_paths_a])\n",
    "    images_b = np.array([preprocess_image(path, target_size) for path in image_paths_b])\n",
    "    \n",
    "    return images_a, images_b, np.array(labels)\n",
    "\n",
    "# Split the dataset into training and validation sets\n",
    "pairs_train, pairs_val = train_test_split(combined_pairs, test_size=0.2, random_state=42)\n",
    "\n",
    "# Load and preprocess images for training and validation\n",
    "images_a_train, images_b_train, labels_train = load_and_process_pairs(pairs_train)\n",
    "images_a_val, images_b_val, labels_val = load_and_process_pairs(pairs_val)\n"
   ]
  },
  {
   "cell_type": "code",
   "execution_count": 9,
   "metadata": {},
   "outputs": [
    {
     "name": "stderr",
     "output_type": "stream",
     "text": [
      "/Users/zope/Desktop/Automatic-Sigma-Grain-Boundary-Detection/.venv/lib/python3.9/site-packages/keras/src/layers/convolutional/base_conv.py:99: UserWarning: Do not pass an `input_shape`/`input_dim` argument to a layer. When using Sequential models, prefer using an `Input(shape)` object as the first layer in the model instead.\n",
      "  super().__init__(\n"
     ]
    },
    {
     "name": "stdout",
     "output_type": "stream",
     "text": [
      "Epoch 1/2\n",
      "\u001b[1m17/17\u001b[0m \u001b[32m━━━━━━━━━━━━━━━━━━━━\u001b[0m\u001b[37m\u001b[0m \u001b[1m106s\u001b[0m 6s/step - accuracy: 0.5171 - loss: 0.6782 - val_accuracy: 0.6692 - val_loss: 0.6094\n",
      "Epoch 2/2\n",
      "\u001b[1m17/17\u001b[0m \u001b[32m━━━━━━━━━━━━━━━━━━━━\u001b[0m\u001b[37m\u001b[0m \u001b[1m98s\u001b[0m 6s/step - accuracy: 0.6954 - loss: 0.5743 - val_accuracy: 0.7923 - val_loss: 0.4794\n"
     ]
    },
    {
     "data": {
      "text/plain": [
       "<keras.src.callbacks.history.History at 0x15602eca0>"
      ]
     },
     "execution_count": 9,
     "metadata": {},
     "output_type": "execute_result"
    }
   ],
   "source": [
    "import tensorflow as tf\n",
    "from tensorflow.keras.optimizers import Adam\n",
    "\n",
    "# Assuming `build_siamese_model` is a function you have defined to build your \n",
    "input_shape = (224, 224,3)\n",
    "model = build_siamese_model(input_shape)\n",
    "\n",
    "# Compile the model with the corrected Adam optimizer reference\n",
    "model.compile(loss='binary_crossentropy', optimizer=Adam(learning_rate=0.0001), metrics=['accuracy'])\n",
    "\n",
    "# Then proceed with your training as planned\n",
    "model.fit([images_a_train, images_b_train], labels_train,\n",
    "          validation_data=([images_a_val, images_b_val], labels_val),\n",
    "          batch_size=32, epochs=1)\n"
   ]
  },
  {
   "cell_type": "code",
   "execution_count": null,
   "metadata": {},
   "outputs": [],
   "source": []
  },
  {
   "cell_type": "code",
   "execution_count": 19,
   "metadata": {},
   "outputs": [],
   "source": [
    "# Assuming your model is named `model` and you've built it with the custom layer correctly implemented\n",
    "model_path = 'my_siamese_model.keras'\n",
    "\n",
    "# Save the model\n",
    "model.save(model_path)\n",
    "\n",
    "# # To load the model, specify custom objects if necessary\n",
    "# from tensorflow.keras.models import load_model\n",
    "\n",
    "# # If you used custom layers or other custom components, specify them in custom_objects\n",
    "# loaded_model = load_model(model_path, custom_objects={'AbsoluteDifferenceLayer': AbsoluteDifferenceLayer})\n"
   ]
  },
  {
   "cell_type": "code",
   "execution_count": 10,
   "metadata": {},
   "outputs": [],
   "source": [
    "# To load the model, specify custom objects if necessary\n",
    "from tensorflow.keras.models import load_model\n",
    "\n",
    "# If you used custom layers or other custom components, specify them in custom_objects\n",
    "model = load_model(\"my_siamese_model.keras\", custom_objects={'AbsoluteDifferenceLayer': AbsoluteDifferenceLayer})"
   ]
  },
  {
   "cell_type": "code",
   "execution_count": 11,
   "metadata": {},
   "outputs": [],
   "source": [
    "def convert_test_image_to_segmented(image_path):\n",
    "    image = cv2.imread(image_path)\n",
    "    gray_image = cv2.cvtColor(image, cv2.COLOR_BGR2GRAY)\n",
    "    circles = cv2.HoughCircles(gray_image, cv2.HOUGH_GRADIENT, dp=1.2, minDist=20,\n",
    "                               param1=50, param2=20, minRadius=8, maxRadius=12)\n",
    "    if circles is not None:\n",
    "        circles = np.uint16(np.around(circles))\n",
    "        colors = [calculate_average_color(image, (i[0], i[1]), i[2]) for i in circles[0, :]]\n",
    "        dominant_color = find_dominant_color(colors)\n",
    "\n",
    "        output_image = np.zeros_like(image)\n",
    "        for i, color in zip(circles[0, :], colors):\n",
    "            if not is_color_similar(color, dominant_color):\n",
    "                cv2.circle(output_image, (i[0], i[1]), i[2], color, -1)\n",
    "\n",
    "        #save this image at directory\n",
    "        cv2.imwrite(f\"Test_Image/Misc/test_image.png\", output_image)"
   ]
  },
  {
   "cell_type": "code",
   "execution_count": 12,
   "metadata": {},
   "outputs": [
    {
     "name": "stdout",
     "output_type": "stream",
     "text": [
      "\u001b[1m1/1\u001b[0m \u001b[32m━━━━━━━━━━━━━━━━━━━━\u001b[0m\u001b[37m\u001b[0m \u001b[1m0s\u001b[0m 303ms/step\n",
      "\u001b[1m1/1\u001b[0m \u001b[32m━━━━━━━━━━━━━━━━━━━━\u001b[0m\u001b[37m\u001b[0m \u001b[1m0s\u001b[0m 65ms/step\n",
      "\u001b[1m1/1\u001b[0m \u001b[32m━━━━━━━━━━━━━━━━━━━━\u001b[0m\u001b[37m\u001b[0m \u001b[1m0s\u001b[0m 63ms/step\n",
      "\u001b[1m1/1\u001b[0m \u001b[32m━━━━━━━━━━━━━━━━━━━━\u001b[0m\u001b[37m\u001b[0m \u001b[1m0s\u001b[0m 71ms/step\n",
      "\u001b[1m1/1\u001b[0m \u001b[32m━━━━━━━━━━━━━━━━━━━━\u001b[0m\u001b[37m\u001b[0m \u001b[1m0s\u001b[0m 68ms/step\n",
      "\u001b[1m1/1\u001b[0m \u001b[32m━━━━━━━━━━━━━━━━━━━━\u001b[0m\u001b[37m\u001b[0m \u001b[1m0s\u001b[0m 73ms/step\n",
      "\u001b[1m1/1\u001b[0m \u001b[32m━━━━━━━━━━━━━━━━━━━━\u001b[0m\u001b[37m\u001b[0m \u001b[1m0s\u001b[0m 79ms/step\n",
      "\u001b[1m1/1\u001b[0m \u001b[32m━━━━━━━━━━━━━━━━━━━━\u001b[0m\u001b[37m\u001b[0m \u001b[1m0s\u001b[0m 66ms/step\n",
      "\u001b[1m1/1\u001b[0m \u001b[32m━━━━━━━━━━━━━━━━━━━━\u001b[0m\u001b[37m\u001b[0m \u001b[1m0s\u001b[0m 74ms/step\n",
      "Predicted Class: 40\n",
      "Similarity Scores: {'61': 0.15091164, '148': 0.30768085, '16': 0.12107214, '36': 0.09902843, '7': 0.107746616, '6': 0.2562168, '40': 0.5003971, '1': 0.42523795, '52': 0.38817143}\n"
     ]
    }
   ],
   "source": [
    "import os\n",
    "import numpy as np\n",
    "\n",
    "def classify_test_image(test_image_path, reference_images_dir, model, target_size=(224, 224)):\n",
    "    \"\"\"\n",
    "    Classify a test image by comparing it with reference images from each class.\n",
    "    \n",
    "    :param test_image_path: Path to the test image.\n",
    "    :param reference_images_dir: Directory containing reference images named after their class.\n",
    "    :param model: Trained Siamese network model.\n",
    "    :param target_size: Target size for resizing images before processing.\n",
    "    :return: Predicted class name for the test image.\n",
    "    \"\"\"\n",
    "    convert_test_image_to_segmented(test_image_path)\n",
    "    test_image_path = \"Test_Image/Misc/test_image.png\"\n",
    "    test_image_preprocessed = preprocess_image(test_image_path, target_size)\n",
    "    similarity_scores = {}\n",
    "\n",
    "    for reference_image_name in os.listdir(reference_images_dir):\n",
    "        if reference_image_name.endswith('.png'):\n",
    "            class_name = os.path.splitext(reference_image_name)[0]\n",
    "            reference_image_path = os.path.join(reference_images_dir, reference_image_name)\n",
    "            reference_image_preprocessed = preprocess_image(reference_image_path, target_size)\n",
    "            \n",
    "            # Use the trained Siamese model to compute similarity\n",
    "            similarity = model.predict([np.expand_dims(test_image_preprocessed, axis=0), np.expand_dims(reference_image_preprocessed, axis=0)])[0][0]\n",
    "            similarity_scores[class_name] = similarity\n",
    "\n",
    "    # The class with the highest similarity score is considered the predicted class\n",
    "    predicted_class = max(similarity_scores, key=similarity_scores.get)\n",
    "    #delete all the content in misc\n",
    "    for i in os.listdir(\"Test_Image/Misc\"):\n",
    "        os.remove(f\"Test_Image/Misc/{i}\")\n",
    "    return predicted_class, similarity_scores\n",
    "\n",
    "# Example usage\n",
    "test_image_path = 'Test_Image/40.png'\n",
    "reference_images_dir = 'Dataset/Grain_Boundary_Segmented'\n",
    "predicted_class, similarity_scores = classify_test_image(test_image_path, reference_images_dir, model)\n",
    "print(f\"Predicted Class: {predicted_class}\")\n",
    "print(\"Similarity Scores:\", similarity_scores)"
   ]
  }
 ],
 "metadata": {
  "kernelspec": {
   "display_name": "base",
   "language": "python",
   "name": "python3"
  },
  "language_info": {
   "codemirror_mode": {
    "name": "ipython",
    "version": 3
   },
   "file_extension": ".py",
   "mimetype": "text/x-python",
   "name": "python",
   "nbconvert_exporter": "python",
   "pygments_lexer": "ipython3",
   "version": "3.9.19"
  }
 },
 "nbformat": 4,
 "nbformat_minor": 2
}
