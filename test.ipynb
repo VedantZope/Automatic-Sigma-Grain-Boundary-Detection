{
 "cells": [
  {
   "cell_type": "code",
   "execution_count": 25,
   "metadata": {},
   "outputs": [
    {
     "data": {
      "text/plain": [
       "0.879"
      ]
     },
     "execution_count": 25,
     "metadata": {},
     "output_type": "execute_result"
    }
   ],
   "source": [
    "import pandas as pd\n",
    "\n",
    "def energy(pid):\n",
    "    # Load the DataFrame\n",
    "    df = pd.read_csv(\"Numerical_Data/energy_ni.csv\")\n",
    "    df['GB_index'] = df['GB_index'].astype(int)\n",
    "    energy = df.loc[df['GB_index'] == pid, 'Ni(J/m^2)'].values[0]\n",
    "    return energy\n",
    "\n",
    "energy(4)\n"
   ]
  },
  {
   "cell_type": "code",
   "execution_count": 23,
   "metadata": {},
   "outputs": [
    {
     "data": {
      "text/html": [
       "<div>\n",
       "<style scoped>\n",
       "    .dataframe tbody tr th:only-of-type {\n",
       "        vertical-align: middle;\n",
       "    }\n",
       "\n",
       "    .dataframe tbody tr th {\n",
       "        vertical-align: top;\n",
       "    }\n",
       "\n",
       "    .dataframe thead th {\n",
       "        text-align: right;\n",
       "    }\n",
       "</style>\n",
       "<table border=\"1\" class=\"dataframe\">\n",
       "  <thead>\n",
       "    <tr style=\"text-align: right;\">\n",
       "      <th></th>\n",
       "      <th>GB_index</th>\n",
       "      <th>Ni(J/m^2)</th>\n",
       "    </tr>\n",
       "  </thead>\n",
       "  <tbody>\n",
       "    <tr>\n",
       "      <th>0</th>\n",
       "      <td>1</td>\n",
       "      <td>1.218</td>\n",
       "    </tr>\n",
       "    <tr>\n",
       "      <th>1</th>\n",
       "      <td>2</td>\n",
       "      <td>0.958</td>\n",
       "    </tr>\n",
       "    <tr>\n",
       "      <th>2</th>\n",
       "      <td>3</td>\n",
       "      <td>0.064</td>\n",
       "    </tr>\n",
       "    <tr>\n",
       "      <th>3</th>\n",
       "      <td>4</td>\n",
       "      <td>0.879</td>\n",
       "    </tr>\n",
       "    <tr>\n",
       "      <th>4</th>\n",
       "      <td>5</td>\n",
       "      <td>1.005</td>\n",
       "    </tr>\n",
       "    <tr>\n",
       "      <th>...</th>\n",
       "      <td>...</td>\n",
       "      <td>...</td>\n",
       "    </tr>\n",
       "    <tr>\n",
       "      <th>383</th>\n",
       "      <td>384</td>\n",
       "      <td>1.150</td>\n",
       "    </tr>\n",
       "    <tr>\n",
       "      <th>384</th>\n",
       "      <td>385</td>\n",
       "      <td>0.815</td>\n",
       "    </tr>\n",
       "    <tr>\n",
       "      <th>385</th>\n",
       "      <td>386</td>\n",
       "      <td>0.933</td>\n",
       "    </tr>\n",
       "    <tr>\n",
       "      <th>386</th>\n",
       "      <td>387</td>\n",
       "      <td>0.404</td>\n",
       "    </tr>\n",
       "    <tr>\n",
       "      <th>387</th>\n",
       "      <td>388</td>\n",
       "      <td>0.404</td>\n",
       "    </tr>\n",
       "  </tbody>\n",
       "</table>\n",
       "<p>388 rows × 2 columns</p>\n",
       "</div>"
      ],
      "text/plain": [
       "     GB_index  Ni(J/m^2)\n",
       "0           1      1.218\n",
       "1           2      0.958\n",
       "2           3      0.064\n",
       "3           4      0.879\n",
       "4           5      1.005\n",
       "..        ...        ...\n",
       "383       384      1.150\n",
       "384       385      0.815\n",
       "385       386      0.933\n",
       "386       387      0.404\n",
       "387       388      0.404\n",
       "\n",
       "[388 rows x 2 columns]"
      ]
     },
     "execution_count": 23,
     "metadata": {},
     "output_type": "execute_result"
    }
   ],
   "source": [
    "df"
   ]
  },
  {
   "cell_type": "code",
   "execution_count": null,
   "metadata": {},
   "outputs": [],
   "source": [
    "import numpy as np\n",
    "\n",
    "# Example dictionary\n",
    "pid_mapped_dict = {'61': 'Sigma 61 grain boundary',\n",
    " '148': 'Sigma 148 grain boundary',\n",
    " '16': 'Sigma 16 grain boundary',\n",
    " '36': 'Low-angle Grain Boundary',\n",
    " '7': 'Sigma 7 grain boundary',\n",
    " '6': 'Sigma 6 grain boundary',\n",
    " '40': 'Sigma 40 grain boundary',\n",
    " '1': 'Sigma 1 grain boundary',\n",
    " '3': 'Sigma 3 grain boundary',\n",
    " '52': 'Sigma 52 grain boundary'}\n",
    "\n",
    "# Save the dictionary as a .npy file\n",
    "np.save('Numerical_Data/pid_mapped_dict.npy', pid_mapped_dict, allow_pickle=True)\n"
   ]
  },
  {
   "cell_type": "code",
   "execution_count": 26,
   "metadata": {},
   "outputs": [
    {
     "data": {
      "text/plain": [
       "{'61': 'Sigma 61',\n",
       " '148': 'Sigma 148',\n",
       " '16': 'Sigma 16',\n",
       " '36': 'Low-angle Grain Boundary',\n",
       " '7': 'Sigma 7',\n",
       " '6': 'Sigma 6',\n",
       " '40': 'Sigma 40',\n",
       " '1': 'Sigma 1',\n",
       " '3': 'Sigma 3',\n",
       " '52': 'Sigma 52'}"
      ]
     },
     "execution_count": 26,
     "metadata": {},
     "output_type": "execute_result"
    }
   ],
   "source": [
    "np.load('Numerical_Data/pid_mapped_dict.npy', allow_pickle=True).item()"
   ]
  }
 ],
 "metadata": {
  "language_info": {
   "name": "python"
  }
 },
 "nbformat": 4,
 "nbformat_minor": 2
}
